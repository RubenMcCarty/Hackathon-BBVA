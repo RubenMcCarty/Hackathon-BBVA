{
  "nbformat": 4,
  "nbformat_minor": 0,
  "metadata": {
    "colab": {
      "name": "ElVueloDeDumbo.ipynb",
      "provenance": [],
      "include_colab_link": true
    },
    "kernelspec": {
      "name": "python3",
      "display_name": "Python 3"
    }
  },
  "cells": [
    {
      "cell_type": "markdown",
      "metadata": {
        "id": "view-in-github",
        "colab_type": "text"
      },
      "source": [
        "<a href=\"https://colab.research.google.com/github/RubenQuispe/Hackathon-BBVA/blob/master/ElVueloDeDumbo.ipynb\" target=\"_parent\"><img src=\"https://colab.research.google.com/assets/colab-badge.svg\" alt=\"Open In Colab\"/></a>"
      ]
    },
    {
      "cell_type": "markdown",
      "metadata": {
        "id": "1keKKBT0XCLy"
      },
      "source": [
        "# EL VUELO DE DUMBO\n",
        "# Mg. Rubén Quispe\n",
        "\n",
        "\n",
        "\n"
      ]
    },
    {
      "cell_type": "markdown",
      "metadata": {
        "id": "_8hXOgTHX3Jx"
      },
      "source": [
        "# LINK DEL PROTOTIPO\n",
        "\n",
        "https://drive.google.com/file/d/1uRe7ZJ-hZ0ygrkaZx2vVXlcq1Ypi8-5X/view?usp=sharing"
      ]
    },
    {
      "cell_type": "markdown",
      "metadata": {
        "id": "25uTkKQPYa-O"
      },
      "source": [
        "# CODIGO PARA IMPLEMENTACION DE INTELIGENCIA ARTIFICIAL"
      ]
    },
    {
      "cell_type": "code",
      "metadata": {
        "id": "V-KsvA6-em_1"
      },
      "source": [
        "# Librerias a implementar\n",
        "\n",
        "import pandas as pd\n",
        "import numpy as np\n",
        "\n",
        "from sklearn.preprocessing import LabelEncoder\n",
        "from sklearn import preprocessing\n",
        "import matplotlib.pyplot as plt\n",
        "import seaborn as sns\n",
        "%matplotlib inline\n"
      ],
      "execution_count": null,
      "outputs": []
    },
    {
      "cell_type": "code",
      "metadata": {
        "id": "ZB2pqqani7uz"
      },
      "source": [
        "#X = pd.read_csv('german_credit_data.csv')\n",
        "#X.head()"
      ],
      "execution_count": null,
      "outputs": []
    },
    {
      "cell_type": "code",
      "metadata": {
        "id": "wUe4c7AgOcnF",
        "outputId": "02dcf7fc-a47b-444b-efde-7e4f5193acfd",
        "colab": {
          "base_uri": "https://localhost:8080/",
          "height": 197
        }
      },
      "source": [
        "# Leyendo dataset\n",
        "X = pd.read_csv('Cust_Segmentation_IBM.csv')\n",
        "X.head()"
      ],
      "execution_count": null,
      "outputs": [
        {
          "output_type": "execute_result",
          "data": {
            "text/html": [
              "<div>\n",
              "<style scoped>\n",
              "    .dataframe tbody tr th:only-of-type {\n",
              "        vertical-align: middle;\n",
              "    }\n",
              "\n",
              "    .dataframe tbody tr th {\n",
              "        vertical-align: top;\n",
              "    }\n",
              "\n",
              "    .dataframe thead th {\n",
              "        text-align: right;\n",
              "    }\n",
              "</style>\n",
              "<table border=\"1\" class=\"dataframe\">\n",
              "  <thead>\n",
              "    <tr style=\"text-align: right;\">\n",
              "      <th></th>\n",
              "      <th>Customer Id</th>\n",
              "      <th>Age</th>\n",
              "      <th>Edu</th>\n",
              "      <th>Years Employed</th>\n",
              "      <th>Income</th>\n",
              "      <th>Card Debt</th>\n",
              "      <th>Other Debt</th>\n",
              "      <th>Defaulted</th>\n",
              "      <th>Address</th>\n",
              "      <th>DebtIncomeRatio</th>\n",
              "    </tr>\n",
              "  </thead>\n",
              "  <tbody>\n",
              "    <tr>\n",
              "      <th>0</th>\n",
              "      <td>1</td>\n",
              "      <td>41</td>\n",
              "      <td>2</td>\n",
              "      <td>6</td>\n",
              "      <td>19</td>\n",
              "      <td>0.124</td>\n",
              "      <td>1.073</td>\n",
              "      <td>0.0</td>\n",
              "      <td>NBA001</td>\n",
              "      <td>6.3</td>\n",
              "    </tr>\n",
              "    <tr>\n",
              "      <th>1</th>\n",
              "      <td>2</td>\n",
              "      <td>47</td>\n",
              "      <td>1</td>\n",
              "      <td>26</td>\n",
              "      <td>100</td>\n",
              "      <td>4.582</td>\n",
              "      <td>8.218</td>\n",
              "      <td>0.0</td>\n",
              "      <td>NBA021</td>\n",
              "      <td>12.8</td>\n",
              "    </tr>\n",
              "    <tr>\n",
              "      <th>2</th>\n",
              "      <td>3</td>\n",
              "      <td>33</td>\n",
              "      <td>2</td>\n",
              "      <td>10</td>\n",
              "      <td>57</td>\n",
              "      <td>6.111</td>\n",
              "      <td>5.802</td>\n",
              "      <td>1.0</td>\n",
              "      <td>NBA013</td>\n",
              "      <td>20.9</td>\n",
              "    </tr>\n",
              "    <tr>\n",
              "      <th>3</th>\n",
              "      <td>4</td>\n",
              "      <td>29</td>\n",
              "      <td>2</td>\n",
              "      <td>4</td>\n",
              "      <td>19</td>\n",
              "      <td>0.681</td>\n",
              "      <td>0.516</td>\n",
              "      <td>0.0</td>\n",
              "      <td>NBA009</td>\n",
              "      <td>6.3</td>\n",
              "    </tr>\n",
              "    <tr>\n",
              "      <th>4</th>\n",
              "      <td>5</td>\n",
              "      <td>47</td>\n",
              "      <td>1</td>\n",
              "      <td>31</td>\n",
              "      <td>253</td>\n",
              "      <td>9.308</td>\n",
              "      <td>8.908</td>\n",
              "      <td>0.0</td>\n",
              "      <td>NBA008</td>\n",
              "      <td>7.2</td>\n",
              "    </tr>\n",
              "  </tbody>\n",
              "</table>\n",
              "</div>"
            ],
            "text/plain": [
              "   Customer Id  Age  Edu  ...  Defaulted  Address  DebtIncomeRatio\n",
              "0            1   41    2  ...        0.0   NBA001              6.3\n",
              "1            2   47    1  ...        0.0   NBA021             12.8\n",
              "2            3   33    2  ...        1.0   NBA013             20.9\n",
              "3            4   29    2  ...        0.0   NBA009              6.3\n",
              "4            5   47    1  ...        0.0   NBA008              7.2\n",
              "\n",
              "[5 rows x 10 columns]"
            ]
          },
          "metadata": {
            "tags": []
          },
          "execution_count": 138
        }
      ]
    },
    {
      "cell_type": "code",
      "metadata": {
        "id": "qTQAuIWkjDdp"
      },
      "source": [
        "# Funciones para EDA\n",
        "def eda(data):\n",
        "    print(\"----------Data Top-5-----------\")\n",
        "    print(data.head(5))\n",
        "    print(\"-----------Informacion-----------\")\n",
        "    print(data.info())\n",
        "    print(\"-----------Data Types-----------\")\n",
        "    print(data.dtypes)\n",
        "    print(\"----------Missing value-----------\")\n",
        "    print(data.isnull().sum())\n",
        "    print(\"----------Null value-----------\")\n",
        "    print(data.isna().sum())\n",
        "    print(\"----------Diomension de la Data----------\")\n",
        "    print(data.shape)\n",
        "\n",
        "def graph_insight(data):\n",
        "    print(set(data.dtypes.tolist()))\n",
        "    df_num = data.select_dtypes(include = ['float64', 'int64'])\n",
        "    df_num.hist(figsize=(16, 16), bins=50, xlabelsize=8, ylabelsize=8);\n",
        "    \n",
        "def drop_duplicate(data, subset):\n",
        "    print('Before drop shape:', data.shape)\n",
        "    before = data.shape[0]\n",
        "    data.drop_duplicates(subset,keep='first', inplace=True) #subset is list where you have to put all column for duplicate check\n",
        "    data.reset_index(drop=True, inplace=True)\n",
        "    print('After drop shape:', data.shape)\n",
        "    after = data.shape[0]\n",
        "    print('Total Duplicate:', before-after)"
      ],
      "execution_count": null,
      "outputs": []
    },
    {
      "cell_type": "code",
      "metadata": {
        "id": "38bAn-V3vcn4",
        "outputId": "00760c80-f7ec-4edd-8aa6-b556ae1ceff6",
        "colab": {
          "base_uri": "https://localhost:8080/",
          "height": 1000
        }
      },
      "source": [
        "eda(X)"
      ],
      "execution_count": null,
      "outputs": [
        {
          "output_type": "stream",
          "text": [
            "----------Data Top-5-----------\n",
            "   Customer Id  Age  Edu  ...  Defaulted  Address  DebtIncomeRatio\n",
            "0            1   41    2  ...        0.0   NBA001              6.3\n",
            "1            2   47    1  ...        0.0   NBA021             12.8\n",
            "2            3   33    2  ...        1.0   NBA013             20.9\n",
            "3            4   29    2  ...        0.0   NBA009              6.3\n",
            "4            5   47    1  ...        0.0   NBA008              7.2\n",
            "\n",
            "[5 rows x 10 columns]\n",
            "-----------Informacion-----------\n",
            "<class 'pandas.core.frame.DataFrame'>\n",
            "RangeIndex: 850 entries, 0 to 849\n",
            "Data columns (total 10 columns):\n",
            " #   Column           Non-Null Count  Dtype  \n",
            "---  ------           --------------  -----  \n",
            " 0   Customer Id      850 non-null    int64  \n",
            " 1   Age              850 non-null    int64  \n",
            " 2   Edu              850 non-null    int64  \n",
            " 3   Years Employed   850 non-null    int64  \n",
            " 4   Income           850 non-null    int64  \n",
            " 5   Card Debt        850 non-null    float64\n",
            " 6   Other Debt       850 non-null    float64\n",
            " 7   Defaulted        700 non-null    float64\n",
            " 8   Address          850 non-null    object \n",
            " 9   DebtIncomeRatio  850 non-null    float64\n",
            "dtypes: float64(4), int64(5), object(1)\n",
            "memory usage: 66.5+ KB\n",
            "None\n",
            "-----------Data Types-----------\n",
            "Customer Id          int64\n",
            "Age                  int64\n",
            "Edu                  int64\n",
            "Years Employed       int64\n",
            "Income               int64\n",
            "Card Debt          float64\n",
            "Other Debt         float64\n",
            "Defaulted          float64\n",
            "Address             object\n",
            "DebtIncomeRatio    float64\n",
            "dtype: object\n",
            "----------Missing value-----------\n",
            "Customer Id          0\n",
            "Age                  0\n",
            "Edu                  0\n",
            "Years Employed       0\n",
            "Income               0\n",
            "Card Debt            0\n",
            "Other Debt           0\n",
            "Defaulted          150\n",
            "Address              0\n",
            "DebtIncomeRatio      0\n",
            "dtype: int64\n",
            "----------Null value-----------\n",
            "Customer Id          0\n",
            "Age                  0\n",
            "Edu                  0\n",
            "Years Employed       0\n",
            "Income               0\n",
            "Card Debt            0\n",
            "Other Debt           0\n",
            "Defaulted          150\n",
            "Address              0\n",
            "DebtIncomeRatio      0\n",
            "dtype: int64\n",
            "----------Diomension de la Data----------\n",
            "(850, 10)\n"
          ],
          "name": "stdout"
        }
      ]
    },
    {
      "cell_type": "code",
      "metadata": {
        "id": "YPGhR151wKQn",
        "outputId": "02d4c934-ea08-4e96-a943-7a99bad1a24e",
        "colab": {
          "base_uri": "https://localhost:8080/",
          "height": 33
        }
      },
      "source": [
        "# nombres de categorical variable en un dataframe\n",
        "object_cols = []\n",
        "for col in X.columns:\n",
        "  if X[col].dtypes == 'object':\n",
        "    object_cols.append(col)\n",
        "print(object_cols)"
      ],
      "execution_count": null,
      "outputs": [
        {
          "output_type": "stream",
          "text": [
            "['Address']\n"
          ],
          "name": "stdout"
        }
      ]
    },
    {
      "cell_type": "code",
      "metadata": {
        "id": "Oq0nkNCmwhjD",
        "outputId": "b2a7dfc3-05e7-4823-e994-ba12c6a6698d",
        "colab": {
          "base_uri": "https://localhost:8080/",
          "height": 33
        }
      },
      "source": [
        "# Obtenemos el numero de entradas unicas de cada columna con variable categórica\n",
        "for col in object_cols:\n",
        "  n = X[col].nunique()\n",
        "  d = [col, n]\n",
        "  print(d)"
      ],
      "execution_count": null,
      "outputs": [
        {
          "output_type": "stream",
          "text": [
            "['Address', 32]\n"
          ],
          "name": "stdout"
        }
      ]
    },
    {
      "cell_type": "code",
      "metadata": {
        "id": "l8ipSEYYwk7E",
        "outputId": "50db9bd6-9f07-47f0-c8e2-f5053f1866bd",
        "colab": {
          "base_uri": "https://localhost:8080/",
          "height": 70
        }
      },
      "source": [
        "# Select categorical columns with relatively low cardinality (convenient but arbitrary)\n",
        "low_cardinality_cols = []\n",
        "for col in object_cols:\n",
        "  if X[col].nunique() < 10:\n",
        "    low_cardinality_cols.append(col)\n",
        "print('columnas con variable categoricas menor a 100: ', low_cardinality_cols)\n",
        "\n",
        "#select numeric columns\n",
        "numeric_cols = [col for col in X.columns if X[col].dtype in ['int64', 'float64']]\n",
        "print('columnas con  numeros enteros o reales: ', numeric_cols)"
      ],
      "execution_count": null,
      "outputs": [
        {
          "output_type": "stream",
          "text": [
            "columnas con variable categoricas menor a 100:  []\n",
            "columnas con  numeros enteros o reales:  ['Customer Id', 'Age', 'Edu', 'Years Employed', 'Income', 'Card Debt', 'Other Debt', 'Defaulted', 'DebtIncomeRatio']\n"
          ],
          "name": "stdout"
        }
      ]
    },
    {
      "cell_type": "code",
      "metadata": {
        "id": "ABdbVkGwws4L"
      },
      "source": [
        "#juntamos columnas \n",
        "my_cols = numeric_cols + low_cardinality_cols\n",
        "X_train = X[my_cols].copy()"
      ],
      "execution_count": null,
      "outputs": []
    },
    {
      "cell_type": "code",
      "metadata": {
        "id": "ESG2Ycj3xGLg"
      },
      "source": [
        "#comprobamos si existen valores nan con la data train test y test\n",
        "#en nuestro caso existe en la data valid y test\n",
        "# nombres de columnas con NaN\n",
        "def missingcol(X):\n",
        "  missing_cols = []\n",
        "  for col in X.columns:\n",
        "    if X[col].isnull().sum() > 0:\n",
        "      missing_cols.append(col)\n",
        "  print(missing_cols)"
      ],
      "execution_count": null,
      "outputs": []
    },
    {
      "cell_type": "code",
      "metadata": {
        "id": "JFmiPiekxJZu",
        "outputId": "ab7a8acd-3e72-480f-a469-22bc3e265794",
        "colab": {
          "base_uri": "https://localhost:8080/",
          "height": 33
        }
      },
      "source": [
        "missingcol(X_train)"
      ],
      "execution_count": null,
      "outputs": [
        {
          "output_type": "stream",
          "text": [
            "['Defaulted']\n"
          ],
          "name": "stdout"
        }
      ]
    },
    {
      "cell_type": "code",
      "metadata": {
        "id": "nbD30GBGywCn",
        "outputId": "9f8e3b64-4734-4748-db32-2f18100527b6",
        "colab": {
          "base_uri": "https://localhost:8080/",
          "height": 33
        }
      },
      "source": [
        "X_train.shape"
      ],
      "execution_count": null,
      "outputs": [
        {
          "output_type": "execute_result",
          "data": {
            "text/plain": [
              "(850, 9)"
            ]
          },
          "metadata": {
            "tags": []
          },
          "execution_count": 146
        }
      ]
    },
    {
      "cell_type": "code",
      "metadata": {
        "id": "kfzzdWY3yXRn"
      },
      "source": [
        "X_train = X_train.dropna()"
      ],
      "execution_count": null,
      "outputs": []
    },
    {
      "cell_type": "code",
      "metadata": {
        "id": "duz_jcamyzea",
        "outputId": "c71cd078-932f-414c-e3cc-9415d612dff1",
        "colab": {
          "base_uri": "https://localhost:8080/",
          "height": 33
        }
      },
      "source": [
        "missingcol(X_train)"
      ],
      "execution_count": null,
      "outputs": [
        {
          "output_type": "stream",
          "text": [
            "[]\n"
          ],
          "name": "stdout"
        }
      ]
    },
    {
      "cell_type": "code",
      "metadata": {
        "id": "k_gJ10W1zRz8",
        "outputId": "21927c14-077d-42dc-ac85-01c7857c433a",
        "colab": {
          "base_uri": "https://localhost:8080/",
          "height": 197
        }
      },
      "source": [
        "X_train.head()"
      ],
      "execution_count": null,
      "outputs": [
        {
          "output_type": "execute_result",
          "data": {
            "text/html": [
              "<div>\n",
              "<style scoped>\n",
              "    .dataframe tbody tr th:only-of-type {\n",
              "        vertical-align: middle;\n",
              "    }\n",
              "\n",
              "    .dataframe tbody tr th {\n",
              "        vertical-align: top;\n",
              "    }\n",
              "\n",
              "    .dataframe thead th {\n",
              "        text-align: right;\n",
              "    }\n",
              "</style>\n",
              "<table border=\"1\" class=\"dataframe\">\n",
              "  <thead>\n",
              "    <tr style=\"text-align: right;\">\n",
              "      <th></th>\n",
              "      <th>Customer Id</th>\n",
              "      <th>Age</th>\n",
              "      <th>Edu</th>\n",
              "      <th>Years Employed</th>\n",
              "      <th>Income</th>\n",
              "      <th>Card Debt</th>\n",
              "      <th>Other Debt</th>\n",
              "      <th>Defaulted</th>\n",
              "      <th>DebtIncomeRatio</th>\n",
              "    </tr>\n",
              "  </thead>\n",
              "  <tbody>\n",
              "    <tr>\n",
              "      <th>0</th>\n",
              "      <td>1</td>\n",
              "      <td>41</td>\n",
              "      <td>2</td>\n",
              "      <td>6</td>\n",
              "      <td>19</td>\n",
              "      <td>0.124</td>\n",
              "      <td>1.073</td>\n",
              "      <td>0.0</td>\n",
              "      <td>6.3</td>\n",
              "    </tr>\n",
              "    <tr>\n",
              "      <th>1</th>\n",
              "      <td>2</td>\n",
              "      <td>47</td>\n",
              "      <td>1</td>\n",
              "      <td>26</td>\n",
              "      <td>100</td>\n",
              "      <td>4.582</td>\n",
              "      <td>8.218</td>\n",
              "      <td>0.0</td>\n",
              "      <td>12.8</td>\n",
              "    </tr>\n",
              "    <tr>\n",
              "      <th>2</th>\n",
              "      <td>3</td>\n",
              "      <td>33</td>\n",
              "      <td>2</td>\n",
              "      <td>10</td>\n",
              "      <td>57</td>\n",
              "      <td>6.111</td>\n",
              "      <td>5.802</td>\n",
              "      <td>1.0</td>\n",
              "      <td>20.9</td>\n",
              "    </tr>\n",
              "    <tr>\n",
              "      <th>3</th>\n",
              "      <td>4</td>\n",
              "      <td>29</td>\n",
              "      <td>2</td>\n",
              "      <td>4</td>\n",
              "      <td>19</td>\n",
              "      <td>0.681</td>\n",
              "      <td>0.516</td>\n",
              "      <td>0.0</td>\n",
              "      <td>6.3</td>\n",
              "    </tr>\n",
              "    <tr>\n",
              "      <th>4</th>\n",
              "      <td>5</td>\n",
              "      <td>47</td>\n",
              "      <td>1</td>\n",
              "      <td>31</td>\n",
              "      <td>253</td>\n",
              "      <td>9.308</td>\n",
              "      <td>8.908</td>\n",
              "      <td>0.0</td>\n",
              "      <td>7.2</td>\n",
              "    </tr>\n",
              "  </tbody>\n",
              "</table>\n",
              "</div>"
            ],
            "text/plain": [
              "   Customer Id  Age  Edu  ...  Other Debt  Defaulted  DebtIncomeRatio\n",
              "0            1   41    2  ...       1.073        0.0              6.3\n",
              "1            2   47    1  ...       8.218        0.0             12.8\n",
              "2            3   33    2  ...       5.802        1.0             20.9\n",
              "3            4   29    2  ...       0.516        0.0              6.3\n",
              "4            5   47    1  ...       8.908        0.0              7.2\n",
              "\n",
              "[5 rows x 9 columns]"
            ]
          },
          "metadata": {
            "tags": []
          },
          "execution_count": 149
        }
      ]
    },
    {
      "cell_type": "code",
      "metadata": {
        "id": "sT5D09H9zYvD"
      },
      "source": [
        "X_train.drop(['Customer Id'], axis=1, inplace=True)"
      ],
      "execution_count": null,
      "outputs": []
    },
    {
      "cell_type": "code",
      "metadata": {
        "id": "sprsqeNFO7TX",
        "outputId": "1ad6fa05-07df-4097-df73-2ad1bbb652f3",
        "colab": {
          "base_uri": "https://localhost:8080/",
          "height": 33
        }
      },
      "source": [
        "X_train.shape"
      ],
      "execution_count": null,
      "outputs": [
        {
          "output_type": "execute_result",
          "data": {
            "text/plain": [
              "(700, 8)"
            ]
          },
          "metadata": {
            "tags": []
          },
          "execution_count": 151
        }
      ]
    },
    {
      "cell_type": "code",
      "metadata": {
        "id": "AJwSebKJzvE2",
        "outputId": "1e9d81cb-2898-4b79-82e1-90f4a6f6e19a",
        "colab": {
          "base_uri": "https://localhost:8080/",
          "height": 197
        }
      },
      "source": [
        "#IMportando librerias para clusterizacion\n",
        "from sklearn.cluster import DBSCAN \n",
        "from sklearn.preprocessing import StandardScaler \n",
        "import matplotlib.pyplot as plt \n",
        "from sklearn.preprocessing import LabelEncoder\n",
        "from sklearn.preprocessing import StandardScaler \n",
        "from sklearn.preprocessing import normalize \n",
        "from sklearn.decomposition import PCA \n",
        "from sklearn.metrics.cluster import homogeneity_score\n",
        "from sklearn import metrics\n",
        "\n",
        "X = X_train.copy()\n",
        "X.head()"
      ],
      "execution_count": null,
      "outputs": [
        {
          "output_type": "execute_result",
          "data": {
            "text/html": [
              "<div>\n",
              "<style scoped>\n",
              "    .dataframe tbody tr th:only-of-type {\n",
              "        vertical-align: middle;\n",
              "    }\n",
              "\n",
              "    .dataframe tbody tr th {\n",
              "        vertical-align: top;\n",
              "    }\n",
              "\n",
              "    .dataframe thead th {\n",
              "        text-align: right;\n",
              "    }\n",
              "</style>\n",
              "<table border=\"1\" class=\"dataframe\">\n",
              "  <thead>\n",
              "    <tr style=\"text-align: right;\">\n",
              "      <th></th>\n",
              "      <th>Age</th>\n",
              "      <th>Edu</th>\n",
              "      <th>Years Employed</th>\n",
              "      <th>Income</th>\n",
              "      <th>Card Debt</th>\n",
              "      <th>Other Debt</th>\n",
              "      <th>Defaulted</th>\n",
              "      <th>DebtIncomeRatio</th>\n",
              "    </tr>\n",
              "  </thead>\n",
              "  <tbody>\n",
              "    <tr>\n",
              "      <th>0</th>\n",
              "      <td>41</td>\n",
              "      <td>2</td>\n",
              "      <td>6</td>\n",
              "      <td>19</td>\n",
              "      <td>0.124</td>\n",
              "      <td>1.073</td>\n",
              "      <td>0.0</td>\n",
              "      <td>6.3</td>\n",
              "    </tr>\n",
              "    <tr>\n",
              "      <th>1</th>\n",
              "      <td>47</td>\n",
              "      <td>1</td>\n",
              "      <td>26</td>\n",
              "      <td>100</td>\n",
              "      <td>4.582</td>\n",
              "      <td>8.218</td>\n",
              "      <td>0.0</td>\n",
              "      <td>12.8</td>\n",
              "    </tr>\n",
              "    <tr>\n",
              "      <th>2</th>\n",
              "      <td>33</td>\n",
              "      <td>2</td>\n",
              "      <td>10</td>\n",
              "      <td>57</td>\n",
              "      <td>6.111</td>\n",
              "      <td>5.802</td>\n",
              "      <td>1.0</td>\n",
              "      <td>20.9</td>\n",
              "    </tr>\n",
              "    <tr>\n",
              "      <th>3</th>\n",
              "      <td>29</td>\n",
              "      <td>2</td>\n",
              "      <td>4</td>\n",
              "      <td>19</td>\n",
              "      <td>0.681</td>\n",
              "      <td>0.516</td>\n",
              "      <td>0.0</td>\n",
              "      <td>6.3</td>\n",
              "    </tr>\n",
              "    <tr>\n",
              "      <th>4</th>\n",
              "      <td>47</td>\n",
              "      <td>1</td>\n",
              "      <td>31</td>\n",
              "      <td>253</td>\n",
              "      <td>9.308</td>\n",
              "      <td>8.908</td>\n",
              "      <td>0.0</td>\n",
              "      <td>7.2</td>\n",
              "    </tr>\n",
              "  </tbody>\n",
              "</table>\n",
              "</div>"
            ],
            "text/plain": [
              "   Age  Edu  Years Employed  ...  Other Debt  Defaulted  DebtIncomeRatio\n",
              "0   41    2               6  ...       1.073        0.0              6.3\n",
              "1   47    1              26  ...       8.218        0.0             12.8\n",
              "2   33    2              10  ...       5.802        1.0             20.9\n",
              "3   29    2               4  ...       0.516        0.0              6.3\n",
              "4   47    1              31  ...       8.908        0.0              7.2\n",
              "\n",
              "[5 rows x 8 columns]"
            ]
          },
          "metadata": {
            "tags": []
          },
          "execution_count": 152
        }
      ]
    },
    {
      "cell_type": "code",
      "metadata": {
        "id": "gqSDFRC3z-D-"
      },
      "source": [
        "#convirtiendo yes/no a 1/0 las variables categoricas\n",
        "#number = LabelEncoder()\n",
        "#X['Sex'] = number.fit_transform(X['Sex'])"
      ],
      "execution_count": null,
      "outputs": []
    },
    {
      "cell_type": "code",
      "metadata": {
        "id": "txd0x-p60mO9",
        "outputId": "884693ba-d01f-405d-bec2-19f89edcc972",
        "colab": {
          "base_uri": "https://localhost:8080/",
          "height": 33
        }
      },
      "source": [
        "# One-hot encode the data (to shorten the code, we use pandas)\n",
        "X = pd.get_dummies(X)\n",
        "print(X.shape)"
      ],
      "execution_count": null,
      "outputs": [
        {
          "output_type": "stream",
          "text": [
            "(700, 8)\n"
          ],
          "name": "stdout"
        }
      ]
    },
    {
      "cell_type": "code",
      "metadata": {
        "id": "3EaVsrP203vK",
        "outputId": "d800617b-3bd8-459c-b512-e77e7666ec48",
        "colab": {
          "base_uri": "https://localhost:8080/",
          "height": 197
        }
      },
      "source": [
        "X.head()"
      ],
      "execution_count": null,
      "outputs": [
        {
          "output_type": "execute_result",
          "data": {
            "text/html": [
              "<div>\n",
              "<style scoped>\n",
              "    .dataframe tbody tr th:only-of-type {\n",
              "        vertical-align: middle;\n",
              "    }\n",
              "\n",
              "    .dataframe tbody tr th {\n",
              "        vertical-align: top;\n",
              "    }\n",
              "\n",
              "    .dataframe thead th {\n",
              "        text-align: right;\n",
              "    }\n",
              "</style>\n",
              "<table border=\"1\" class=\"dataframe\">\n",
              "  <thead>\n",
              "    <tr style=\"text-align: right;\">\n",
              "      <th></th>\n",
              "      <th>Age</th>\n",
              "      <th>Edu</th>\n",
              "      <th>Years Employed</th>\n",
              "      <th>Income</th>\n",
              "      <th>Card Debt</th>\n",
              "      <th>Other Debt</th>\n",
              "      <th>Defaulted</th>\n",
              "      <th>DebtIncomeRatio</th>\n",
              "    </tr>\n",
              "  </thead>\n",
              "  <tbody>\n",
              "    <tr>\n",
              "      <th>0</th>\n",
              "      <td>41</td>\n",
              "      <td>2</td>\n",
              "      <td>6</td>\n",
              "      <td>19</td>\n",
              "      <td>0.124</td>\n",
              "      <td>1.073</td>\n",
              "      <td>0.0</td>\n",
              "      <td>6.3</td>\n",
              "    </tr>\n",
              "    <tr>\n",
              "      <th>1</th>\n",
              "      <td>47</td>\n",
              "      <td>1</td>\n",
              "      <td>26</td>\n",
              "      <td>100</td>\n",
              "      <td>4.582</td>\n",
              "      <td>8.218</td>\n",
              "      <td>0.0</td>\n",
              "      <td>12.8</td>\n",
              "    </tr>\n",
              "    <tr>\n",
              "      <th>2</th>\n",
              "      <td>33</td>\n",
              "      <td>2</td>\n",
              "      <td>10</td>\n",
              "      <td>57</td>\n",
              "      <td>6.111</td>\n",
              "      <td>5.802</td>\n",
              "      <td>1.0</td>\n",
              "      <td>20.9</td>\n",
              "    </tr>\n",
              "    <tr>\n",
              "      <th>3</th>\n",
              "      <td>29</td>\n",
              "      <td>2</td>\n",
              "      <td>4</td>\n",
              "      <td>19</td>\n",
              "      <td>0.681</td>\n",
              "      <td>0.516</td>\n",
              "      <td>0.0</td>\n",
              "      <td>6.3</td>\n",
              "    </tr>\n",
              "    <tr>\n",
              "      <th>4</th>\n",
              "      <td>47</td>\n",
              "      <td>1</td>\n",
              "      <td>31</td>\n",
              "      <td>253</td>\n",
              "      <td>9.308</td>\n",
              "      <td>8.908</td>\n",
              "      <td>0.0</td>\n",
              "      <td>7.2</td>\n",
              "    </tr>\n",
              "  </tbody>\n",
              "</table>\n",
              "</div>"
            ],
            "text/plain": [
              "   Age  Edu  Years Employed  ...  Other Debt  Defaulted  DebtIncomeRatio\n",
              "0   41    2               6  ...       1.073        0.0              6.3\n",
              "1   47    1              26  ...       8.218        0.0             12.8\n",
              "2   33    2              10  ...       5.802        1.0             20.9\n",
              "3   29    2               4  ...       0.516        0.0              6.3\n",
              "4   47    1              31  ...       8.908        0.0              7.2\n",
              "\n",
              "[5 rows x 8 columns]"
            ]
          },
          "metadata": {
            "tags": []
          },
          "execution_count": 154
        }
      ]
    },
    {
      "cell_type": "code",
      "metadata": {
        "id": "mfhKssWQ08la",
        "outputId": "b9a8f75e-2604-46d9-9761-335857a854ff",
        "colab": {
          "base_uri": "https://localhost:8080/",
          "height": 166
        }
      },
      "source": [
        "X.isnull().sum()"
      ],
      "execution_count": null,
      "outputs": [
        {
          "output_type": "execute_result",
          "data": {
            "text/plain": [
              "Age                0\n",
              "Edu                0\n",
              "Years Employed     0\n",
              "Income             0\n",
              "Card Debt          0\n",
              "Other Debt         0\n",
              "Defaulted          0\n",
              "DebtIncomeRatio    0\n",
              "dtype: int64"
            ]
          },
          "metadata": {
            "tags": []
          },
          "execution_count": 155
        }
      ]
    },
    {
      "cell_type": "code",
      "metadata": {
        "id": "5lwH9lIE1A96",
        "outputId": "aed590a8-1ad3-4464-8629-e9a1afe2dd7f",
        "colab": {
          "base_uri": "https://localhost:8080/",
          "height": 116
        }
      },
      "source": [
        "# Escalando los datos para llevar todos los atributos a un nivel comparable\n",
        "scaler = StandardScaler() \n",
        "X_scaled = scaler.fit_transform(X) \n",
        "  \n",
        "# Normalizando los datos para que los datos sigan aproximadamente una distribución gaussiana \n",
        "X_normalized = normalize(X_scaled) \n",
        "  \n",
        "# Convirtiendo numpy array into a pandas DataFrame \n",
        "X_normalized = pd.DataFrame(X_normalized) \n",
        "\n",
        "# transformando la dimensionaliadd del sistema\n",
        "pca = PCA(n_components = 2) \n",
        "X_principal = pca.fit_transform(X_normalized) \n",
        "X_principal = pd.DataFrame(X_principal) \n",
        "X_principal.columns = ['P1', 'P2'] \n",
        "print(X_principal.head()) "
      ],
      "execution_count": null,
      "outputs": [
        {
          "output_type": "stream",
          "text": [
            "         P1        P2\n",
            "0 -0.316202 -0.366257\n",
            "1  0.998402 -0.320470\n",
            "2  0.711332  0.757767\n",
            "3 -0.779339 -0.025339\n",
            "4  0.903224 -0.242787\n"
          ],
          "name": "stdout"
        }
      ]
    },
    {
      "cell_type": "code",
      "metadata": {
        "id": "yzj-WnHn1KNh",
        "outputId": "e9ce393f-81e5-4b45-b729-5002728680db",
        "colab": {
          "base_uri": "https://localhost:8080/",
          "height": 33
        }
      },
      "source": [
        "# Numpy array de todos los labels clusterizados asignadas a cada punto de datos\n",
        "db_default = DBSCAN(eps=0.12, min_samples=12).fit(X_principal) \n",
        "labels = db_default.labels_\n",
        "print('labels presentes:', set(labels))\n",
        "\n",
        "# numero de cluster in labels, ignorando el ruido si está presente.\n",
        "n_clusters_ = len(set(labels)) - (1 if -1 in labels else 0)\n",
        "n_noise_ = list(labels).count(-1)"
      ],
      "execution_count": null,
      "outputs": [
        {
          "output_type": "stream",
          "text": [
            "labels presentes: {0, 1, 2, 3, -1}\n"
          ],
          "name": "stdout"
        }
      ]
    },
    {
      "cell_type": "code",
      "metadata": {
        "id": "R0uVQztt1NRK",
        "outputId": "0d91dda3-ac2a-424f-ba37-a8a6e9883c78",
        "colab": {
          "base_uri": "https://localhost:8080/",
          "height": 834
        }
      },
      "source": [
        "# Construyendo los labels para el mapeo de color\n",
        "colours1 = {} \n",
        "colours1[0] = 'r'\n",
        "colours1[1] = 'g'\n",
        "colours1[2] = 'b'\n",
        "colours1[3] = 'c'\n",
        "colours1[4] = 'y'\n",
        "colours1[5] = 'm'\n",
        "colours1[-1] = 'k'\n",
        "\n",
        "# Construyendo el vector de color para cada punto de datos\n",
        "cvec = [colours1[label] for label in labels] \n",
        "colors = ['r', 'g', 'b', 'c', 'y', 'm', 'k' ]\n",
        "\n",
        "# construcción de la leyenda\n",
        "r = plt.scatter( \n",
        "        X_principal['P1'], X_principal['P2'], marker ='o', color = colors[0]) \n",
        "g = plt.scatter( \n",
        "        X_principal['P1'], X_principal['P2'], marker ='o', color = colors[1]) \n",
        "b = plt.scatter( \n",
        "        X_principal['P1'], X_principal['P2'], marker ='o', color = colors[2]) \n",
        "c = plt.scatter( \n",
        "        X_principal['P1'], X_principal['P2'], marker ='o', color = colors[3]) \n",
        "y = plt.scatter( \n",
        "        X_principal['P1'], X_principal['P2'], marker ='o', color = colors[4]) \n",
        "m = plt.scatter( \n",
        "        X_principal['P1'], X_principal['P2'], marker ='o', color = colors[5]) \n",
        "k = plt.scatter( \n",
        "        X_principal['P1'], X_principal['P2'], marker ='o', color = colors[6])\n",
        "  \n",
        "# ploteo de P1 en el eje X y P2 en el eje Y según el vector de color definido\n",
        "plt.figure(figsize =(9, 9)) \n",
        "plt.scatter(X_principal['P1'], X_principal['P2'], c = cvec) \n",
        "  \n",
        "# construyendo leyenda\n",
        "plt.legend((r, g, b, c, y, m, k), \n",
        "           ('Label 0', 'Label 1', 'Label 2', 'Label 3','Label 4', \n",
        "            'Label 5', 'Label -1'), \n",
        "           scatterpoints = 1, \n",
        "           loc ='upper left', \n",
        "           ncol = 3, \n",
        "           fontsize = 8)  \n",
        "plt.title('Estimated number of clusters: %d' % n_clusters_)\n",
        "plt.show() \n",
        "print('Estimated number of clusters: %d' % n_clusters_)\n",
        "print('Estimated number of noise points: %d' % n_noise_) "
      ],
      "execution_count": null,
      "outputs": [
        {
          "output_type": "display_data",
          "data": {
            "image/png": "[encoded data removed]",
            "text/plain": [
              "<Figure size 432x288 with 1 Axes>"
            ]
          },
          "metadata": {
            "tags": [],
            "needs_background": "light"
          }
        },
        {
          "output_type": "display_data",
          "data": {
            "image/png": "[encoded data removed]",
            "text/plain": [
              "<Figure size 648x648 with 1 Axes>"
            ]
          },
          "metadata": {
            "tags": [],
            "needs_background": "light"
          }
        },
        {
          "output_type": "stream",
          "text": [
            "Estimated number of clusters: 4\n",
            "Estimated number of noise points: 170\n"
          ],
          "name": "stdout"
        }
      ]
    },
    {
      "cell_type": "markdown",
      "metadata": {
        "id": "VNm3yPOaQP21"
      },
      "source": [
        "# K means\n"
      ]
    },
    {
      "cell_type": "code",
      "metadata": {
        "id": "DvYYDTZdQSHw"
      },
      "source": [
        "import random \n",
        "import numpy as np \n",
        "import matplotlib.pyplot as plt \n",
        "from sklearn.cluster import KMeans \n",
        "from sklearn.datasets.samples_generator import make_blobs \n",
        "%matplotlib inline"
      ],
      "execution_count": null,
      "outputs": []
    },
    {
      "cell_type": "code",
      "metadata": {
        "id": "rytu4iGRlhN0"
      },
      "source": [
        "cust_df = pd.read_csv(\"Cust_Segmentation_IBM.csv\")"
      ],
      "execution_count": null,
      "outputs": []
    },
    {
      "cell_type": "code",
      "metadata": {
        "id": "7MKXT1Cmlv1w",
        "outputId": "c6397867-fe60-4d2d-e5a9-5a916c7b490b",
        "colab": {
          "base_uri": "https://localhost:8080/",
          "height": 33
        }
      },
      "source": [
        "cust_df.shape"
      ],
      "execution_count": null,
      "outputs": [
        {
          "output_type": "execute_result",
          "data": {
            "text/plain": [
              "(850, 10)"
            ]
          },
          "metadata": {
            "tags": []
          },
          "execution_count": 75
        }
      ]
    },
    {
      "cell_type": "code",
      "metadata": {
        "id": "2sLqwrS-lv4T",
        "outputId": "534bce9e-1e5a-4d80-c1a8-7346dfa33c0d",
        "colab": {
          "base_uri": "https://localhost:8080/",
          "height": 233
        }
      },
      "source": [
        "df = cust_df.drop('Address', axis=1)\n",
        "#normalizamos\n",
        "from sklearn.preprocessing import StandardScaler\n",
        "X = df.values[:,1:]\n",
        "X = np.nan_to_num(X)\n",
        "Clus_dataSet = StandardScaler().fit_transform(X)\n",
        "Clus_dataSet"
      ],
      "execution_count": null,
      "outputs": [
        {
          "output_type": "execute_result",
          "data": {
            "text/plain": [
              "array([[ 0.74291541,  0.31212243, -0.37878978, ..., -0.59048916,\n",
              "        -0.52379654, -0.57652509],\n",
              "       [ 1.48949049, -0.76634938,  2.5737211 , ...,  1.51296181,\n",
              "        -0.52379654,  0.39138677],\n",
              "       [-0.25251804,  0.31212243,  0.2117124 , ...,  0.80170393,\n",
              "         1.90913822,  1.59755385],\n",
              "       ...,\n",
              "       [-1.24795149,  2.46906604, -1.26454304, ...,  0.03863257,\n",
              "         1.90913822,  3.45892281],\n",
              "       [-0.37694723, -0.76634938,  0.50696349, ..., -0.70147601,\n",
              "        -0.52379654, -1.08281745],\n",
              "       [ 2.1116364 , -0.76634938,  1.09746566, ...,  0.16463355,\n",
              "        -0.52379654, -0.2340332 ]])"
            ]
          },
          "metadata": {
            "tags": []
          },
          "execution_count": 76
        }
      ]
    },
    {
      "cell_type": "code",
      "metadata": {
        "id": "yVG6iJ8jlv9I",
        "outputId": "31cc9890-c89e-499a-c11f-382a81933097",
        "colab": {
          "base_uri": "https://localhost:8080/",
          "height": 400
        }
      },
      "source": [
        "clusterNum = 3\n",
        "k_means = KMeans(init = \"k-means++\", n_clusters = clusterNum, n_init = 12)\n",
        "k_means.fit(X)\n",
        "k_means_labels = k_means.labels_\n",
        "k_means_cluster_centers = k_means.cluster_centers_\n",
        "labels = k_means.labels_\n",
        "print(labels)"
      ],
      "execution_count": null,
      "outputs": [
        {
          "output_type": "stream",
          "text": [
            "[0 2 0 0 1 2 0 2 0 2 2 0 0 0 0 0 0 0 2 0 0 0 0 2 2 2 0 0 2 0 2 0 0 0 0 0 0\n",
            " 0 0 2 0 2 0 1 0 2 0 0 0 2 2 0 0 2 2 0 0 0 2 0 2 0 2 2 0 0 2 0 0 0 2 2 2 0\n",
            " 0 0 0 0 2 0 2 2 1 0 0 0 0 0 0 0 2 0 0 0 0 0 0 0 0 0 0 2 2 0 0 0 0 0 0 2 0\n",
            " 0 0 0 0 0 0 0 2 0 0 0 0 0 0 2 0 0 0 0 0 2 0 0 0 0 2 0 0 0 0 0 0 0 2 0 2 0\n",
            " 0 0 0 0 0 0 2 0 2 2 0 2 0 0 2 0 0 0 0 0 0 0 2 0 0 0 0 0 0 0 0 2 0 0 0 2 0\n",
            " 0 0 0 0 2 0 0 2 0 2 0 0 2 1 0 2 0 0 0 0 0 0 1 2 0 0 0 0 2 0 0 2 2 0 2 0 2\n",
            " 0 0 0 0 2 0 0 0 0 0 0 0 2 0 0 0 0 0 0 0 0 0 0 1 2 0 0 0 0 0 0 0 2 0 0 0 0\n",
            " 0 0 2 0 0 2 0 0 2 0 0 0 0 0 0 0 0 0 0 0 0 0 2 2 0 2 0 2 0 2 2 0 0 0 0 0 0\n",
            " 0 0 0 2 2 2 0 0 0 2 0 0 0 0 0 0 0 0 0 0 0 0 0 0 2 0 2 0 0 0 0 0 2 0 2 2 0\n",
            " 0 0 0 0 2 0 0 0 0 0 0 2 0 0 2 0 0 2 0 0 0 0 0 2 0 0 0 1 0 0 0 2 0 2 2 2 0\n",
            " 0 0 2 0 0 0 0 0 0 0 0 0 0 0 2 0 2 0 0 0 0 0 0 0 0 0 0 2 0 0 0 0 0 0 0 0 0\n",
            " 0 2 0 0 2 0 0 0 0 2 0 0 0 0 2 0 0 2 0 0 0 0 0 0 0 0 0 2 0 0 0 2 0 0 0 0 1\n",
            " 0 0 0 0 0 0 2 0 0 0 1 0 0 0 0 2 0 1 0 0 0 0 2 0 2 2 2 0 0 2 2 0 0 0 0 0 0\n",
            " 0 2 0 0 0 0 2 0 0 0 2 0 2 0 0 0 2 0 0 0 0 2 2 0 0 0 0 2 0 0 0 0 2 0 0 0 0\n",
            " 0 2 2 0 0 0 0 0 0 0 0 0 0 0 1 2 0 0 0 0 0 0 2 0 0 0 0 2 0 0 2 0 0 1 0 1 0\n",
            " 0 1 0 0 0 0 0 0 0 0 0 2 0 2 0 0 1 0 0 0 0 0 0 0 0 2 0 0 0 0 0 0 0 0 2 0 2\n",
            " 0 0 0 0 0 0 2 0 0 0 0 2 0 2 0 0 0 0 0 0 0 0 0 0 0 0 0 0 2 0 0 0 0 0 0 0 2\n",
            " 2 0 0 2 0 2 0 0 2 0 2 0 0 1 0 2 0 2 0 0 0 0 0 2 2 0 0 0 0 2 0 0 0 2 2 0 0\n",
            " 2 0 0 0 2 0 1 0 0 2 0 0 0 0 0 0 0 2 0 0 0 2 0 0 0 0 0 2 0 0 2 0 0 0 0 0 0\n",
            " 0 0 2 0 0 2 0 2 0 2 2 0 0 0 2 0 2 0 0 0 0 0 2 0 0 0 0 2 2 0 0 2 2 0 0 0 0\n",
            " 0 2 0 0 0 0 2 0 0 0 0 0 0 0 0 0 0 0 2 0 2 2 0 2 0 2 2 0 0 2 0 0 0 0 0 2 2\n",
            " 0 0 0 0 0 0 0 2 0 0 0 0 0 0 1 2 2 0 0 0 0 0 0 0 2 0 0 0 0 0 0 2 0 0 0 0 0\n",
            " 0 0 0 0 0 0 0 0 0 0 0 2 0 0 0 0 0 0 0 0 0 0 0 0 0 0 0 2 0 0 0 0 0 0 0 2]\n"
          ],
          "name": "stdout"
        }
      ]
    },
    {
      "cell_type": "code",
      "metadata": {
        "id": "ZWEL8s2Ilv7S",
        "outputId": "729ec59a-0576-4695-c59d-80c0f94c44e9",
        "colab": {
          "base_uri": "https://localhost:8080/",
          "height": 197
        }
      },
      "source": [
        "df[\"Clus_km\"] = labels\n",
        "df.head(5)"
      ],
      "execution_count": null,
      "outputs": [
        {
          "output_type": "execute_result",
          "data": {
            "text/html": [
              "<div>\n",
              "<style scoped>\n",
              "    .dataframe tbody tr th:only-of-type {\n",
              "        vertical-align: middle;\n",
              "    }\n",
              "\n",
              "    .dataframe tbody tr th {\n",
              "        vertical-align: top;\n",
              "    }\n",
              "\n",
              "    .dataframe thead th {\n",
              "        text-align: right;\n",
              "    }\n",
              "</style>\n",
              "<table border=\"1\" class=\"dataframe\">\n",
              "  <thead>\n",
              "    <tr style=\"text-align: right;\">\n",
              "      <th></th>\n",
              "      <th>Customer Id</th>\n",
              "      <th>Age</th>\n",
              "      <th>Edu</th>\n",
              "      <th>Years Employed</th>\n",
              "      <th>Income</th>\n",
              "      <th>Card Debt</th>\n",
              "      <th>Other Debt</th>\n",
              "      <th>Defaulted</th>\n",
              "      <th>DebtIncomeRatio</th>\n",
              "      <th>Clus_km</th>\n",
              "    </tr>\n",
              "  </thead>\n",
              "  <tbody>\n",
              "    <tr>\n",
              "      <th>0</th>\n",
              "      <td>1</td>\n",
              "      <td>41</td>\n",
              "      <td>2</td>\n",
              "      <td>6</td>\n",
              "      <td>19</td>\n",
              "      <td>0.124</td>\n",
              "      <td>1.073</td>\n",
              "      <td>0.0</td>\n",
              "      <td>6.3</td>\n",
              "      <td>0</td>\n",
              "    </tr>\n",
              "    <tr>\n",
              "      <th>1</th>\n",
              "      <td>2</td>\n",
              "      <td>47</td>\n",
              "      <td>1</td>\n",
              "      <td>26</td>\n",
              "      <td>100</td>\n",
              "      <td>4.582</td>\n",
              "      <td>8.218</td>\n",
              "      <td>0.0</td>\n",
              "      <td>12.8</td>\n",
              "      <td>2</td>\n",
              "    </tr>\n",
              "    <tr>\n",
              "      <th>2</th>\n",
              "      <td>3</td>\n",
              "      <td>33</td>\n",
              "      <td>2</td>\n",
              "      <td>10</td>\n",
              "      <td>57</td>\n",
              "      <td>6.111</td>\n",
              "      <td>5.802</td>\n",
              "      <td>1.0</td>\n",
              "      <td>20.9</td>\n",
              "      <td>0</td>\n",
              "    </tr>\n",
              "    <tr>\n",
              "      <th>3</th>\n",
              "      <td>4</td>\n",
              "      <td>29</td>\n",
              "      <td>2</td>\n",
              "      <td>4</td>\n",
              "      <td>19</td>\n",
              "      <td>0.681</td>\n",
              "      <td>0.516</td>\n",
              "      <td>0.0</td>\n",
              "      <td>6.3</td>\n",
              "      <td>0</td>\n",
              "    </tr>\n",
              "    <tr>\n",
              "      <th>4</th>\n",
              "      <td>5</td>\n",
              "      <td>47</td>\n",
              "      <td>1</td>\n",
              "      <td>31</td>\n",
              "      <td>253</td>\n",
              "      <td>9.308</td>\n",
              "      <td>8.908</td>\n",
              "      <td>0.0</td>\n",
              "      <td>7.2</td>\n",
              "      <td>1</td>\n",
              "    </tr>\n",
              "  </tbody>\n",
              "</table>\n",
              "</div>"
            ],
            "text/plain": [
              "   Customer Id  Age  Edu  ...  Defaulted  DebtIncomeRatio  Clus_km\n",
              "0            1   41    2  ...        0.0              6.3        0\n",
              "1            2   47    1  ...        0.0             12.8        2\n",
              "2            3   33    2  ...        1.0             20.9        0\n",
              "3            4   29    2  ...        0.0              6.3        0\n",
              "4            5   47    1  ...        0.0              7.2        1\n",
              "\n",
              "[5 rows x 10 columns]"
            ]
          },
          "metadata": {
            "tags": []
          },
          "execution_count": 78
        }
      ]
    },
    {
      "cell_type": "code",
      "metadata": {
        "id": "mDhDAXseLeps",
        "outputId": "5ced6c2a-5231-46ae-ba03-64e89b8f711c",
        "colab": {
          "base_uri": "https://localhost:8080/",
          "height": 167
        }
      },
      "source": [
        "df.groupby('Clus_km').mean()"
      ],
      "execution_count": null,
      "outputs": [
        {
          "output_type": "execute_result",
          "data": {
            "text/html": [
              "<div>\n",
              "<style scoped>\n",
              "    .dataframe tbody tr th:only-of-type {\n",
              "        vertical-align: middle;\n",
              "    }\n",
              "\n",
              "    .dataframe tbody tr th {\n",
              "        vertical-align: top;\n",
              "    }\n",
              "\n",
              "    .dataframe thead th {\n",
              "        text-align: right;\n",
              "    }\n",
              "</style>\n",
              "<table border=\"1\" class=\"dataframe\">\n",
              "  <thead>\n",
              "    <tr style=\"text-align: right;\">\n",
              "      <th></th>\n",
              "      <th>Customer Id</th>\n",
              "      <th>Age</th>\n",
              "      <th>Edu</th>\n",
              "      <th>Years Employed</th>\n",
              "      <th>Income</th>\n",
              "      <th>Card Debt</th>\n",
              "      <th>Other Debt</th>\n",
              "      <th>Defaulted</th>\n",
              "      <th>DebtIncomeRatio</th>\n",
              "    </tr>\n",
              "    <tr>\n",
              "      <th>Clus_km</th>\n",
              "      <th></th>\n",
              "      <th></th>\n",
              "      <th></th>\n",
              "      <th></th>\n",
              "      <th></th>\n",
              "      <th></th>\n",
              "      <th></th>\n",
              "      <th></th>\n",
              "      <th></th>\n",
              "    </tr>\n",
              "  </thead>\n",
              "  <tbody>\n",
              "    <tr>\n",
              "      <th>0</th>\n",
              "      <td>432.468413</td>\n",
              "      <td>32.964561</td>\n",
              "      <td>1.614792</td>\n",
              "      <td>6.374422</td>\n",
              "      <td>31.164869</td>\n",
              "      <td>1.032541</td>\n",
              "      <td>2.104133</td>\n",
              "      <td>0.285185</td>\n",
              "      <td>10.094761</td>\n",
              "    </tr>\n",
              "    <tr>\n",
              "      <th>1</th>\n",
              "      <td>410.166667</td>\n",
              "      <td>45.388889</td>\n",
              "      <td>2.666667</td>\n",
              "      <td>19.555556</td>\n",
              "      <td>227.166667</td>\n",
              "      <td>5.678444</td>\n",
              "      <td>10.907167</td>\n",
              "      <td>0.285714</td>\n",
              "      <td>7.322222</td>\n",
              "    </tr>\n",
              "    <tr>\n",
              "      <th>2</th>\n",
              "      <td>402.295082</td>\n",
              "      <td>41.333333</td>\n",
              "      <td>1.956284</td>\n",
              "      <td>15.256831</td>\n",
              "      <td>83.928962</td>\n",
              "      <td>3.103639</td>\n",
              "      <td>5.765279</td>\n",
              "      <td>0.171233</td>\n",
              "      <td>10.724590</td>\n",
              "    </tr>\n",
              "  </tbody>\n",
              "</table>\n",
              "</div>"
            ],
            "text/plain": [
              "         Customer Id        Age  ...  Defaulted  DebtIncomeRatio\n",
              "Clus_km                          ...                            \n",
              "0         432.468413  32.964561  ...   0.285185        10.094761\n",
              "1         410.166667  45.388889  ...   0.285714         7.322222\n",
              "2         402.295082  41.333333  ...   0.171233        10.724590\n",
              "\n",
              "[3 rows x 9 columns]"
            ]
          },
          "metadata": {
            "tags": []
          },
          "execution_count": 79
        }
      ]
    },
    {
      "cell_type": "code",
      "metadata": {
        "id": "nNUSvMSFLeti",
        "outputId": "31a7548e-e0ab-498e-b4ea-9bd1da10e145",
        "colab": {
          "base_uri": "https://localhost:8080/",
          "height": 286
        }
      },
      "source": [
        "area = np.pi * ( X[:, 1])**2  \n",
        "plt.scatter(X[:, 0], X[:, 3], s=area, c=labels.astype(np.float), alpha=0.5)\n",
        "plt.xlabel('Age', fontsize=18)\n",
        "plt.ylabel('Income', fontsize=16)\n",
        "\n",
        "plt.show()"
      ],
      "execution_count": null,
      "outputs": [
        {
          "output_type": "display_data",
          "data": {
            "image/png": "[encoded data removed]",
            "text/plain": [
              "<Figure size 432x288 with 1 Axes>"
            ]
          },
          "metadata": {
            "tags": [],
            "needs_background": "light"
          }
        }
      ]
    },
    {
      "cell_type": "code",
      "metadata": {
        "id": "jehjtoqULew7",
        "outputId": "8415a839-c4b7-4ca7-ba9d-d39074b8ffb7",
        "colab": {
          "base_uri": "https://localhost:8080/",
          "height": 480
        }
      },
      "source": [
        "from mpl_toolkits.mplot3d import Axes3D \n",
        "fig = plt.figure(1, figsize=(8, 6))\n",
        "plt.clf()\n",
        "ax = Axes3D(fig, rect=[0, 0, .95, 1], elev=48, azim=134)\n",
        "\n",
        "plt.cla()\n",
        "# plt.ylabel('Age', fontsize=18)\n",
        "# plt.xlabel('Income', fontsize=16)\n",
        "# plt.zlabel('Education', fontsize=16)\n",
        "ax.set_xlabel('Education')\n",
        "ax.set_ylabel('Age')\n",
        "ax.set_zlabel('Income')\n",
        "\n",
        "ax.scatter(X[:, 1], X[:, 0], X[:, 3], c= labels.astype(np.float))"
      ],
      "execution_count": null,
      "outputs": [
        {
          "output_type": "execute_result",
          "data": {
            "text/plain": [
              "<mpl_toolkits.mplot3d.art3d.Path3DCollection at 0x7ff0eb3d9908>"
            ]
          },
          "metadata": {
            "tags": []
          },
          "execution_count": 54
        },
        {
          "output_type": "display_data",
          "data": {
            "image/png": "[encoded data removed]",
            "text/plain": [
              "<Figure size 576x432 with 1 Axes>"
            ]
          },
          "metadata": {
            "tags": [],
            "needs_background": "light"
          }
        }
      ]
    },
    {
      "cell_type": "code",
      "metadata": {
        "id": "20Aec-4YLe7s"
      },
      "source": [
        ""
      ],
      "execution_count": null,
      "outputs": []
    },
    {
      "cell_type": "code",
      "metadata": {
        "id": "eMpZGYltSK0k",
        "outputId": "a79923d5-8dff-4a07-cc70-020168eb025b",
        "colab": {
          "base_uri": "https://localhost:8080/",
          "height": 267
        }
      },
      "source": [
        "# Initialize the plot with the specified dimensions.\n",
        "fig = plt.figure(figsize=(6, 4))\n",
        "\n",
        "# Colors uses a color map, which will produce an array of colors based on\n",
        "# the number of labels there are. We use set(k_means_labels) to get the\n",
        "# unique labels.\n",
        "colors = plt.cm.Spectral(np.linspace(0, 1, len(set(k_means_labels))))\n",
        "\n",
        "# Create a plot\n",
        "ax = fig.add_subplot(1, 1, 1)\n",
        "\n",
        "# For loop that plots the data points and centroids.\n",
        "# k will range from 0-3, which will match the possible clusters that each\n",
        "# data point is in.\n",
        "for k, col in zip(range(len([[4,4], [-2, -1], [2, -3], [1, 1]])), colors):\n",
        "\n",
        "    # Create a list of all data points, where the data poitns that are \n",
        "    # in the cluster (ex. cluster 0) are labeled as true, else they are\n",
        "    # labeled as false.\n",
        "    my_members = (k_means_labels == k)\n",
        "    \n",
        "    # Define the centroid, or cluster center.\n",
        "    cluster_center = k_means_cluster_centers[k]\n",
        "    \n",
        "    # Plots the datapoints with color col.\n",
        "    ax.plot(X[my_members, 0], X[my_members, 1], 'w', markerfacecolor=col, marker='.')\n",
        "    \n",
        "    # Plots the centroids with specified color, but with a darker outline\n",
        "    ax.plot(cluster_center[0], cluster_center[1], 'o', markerfacecolor=col,  markeredgecolor='k', markersize=6)\n",
        "\n",
        "# Title of the plot\n",
        "ax.set_title('KMeans')\n",
        "\n",
        "# Remove x-axis ticks\n",
        "ax.set_xticks(())\n",
        "\n",
        "# Remove y-axis ticks\n",
        "ax.set_yticks(())\n",
        "\n",
        "# Show the plot\n",
        "plt.show()"
      ],
      "execution_count": null,
      "outputs": [
        {
          "output_type": "display_data",
          "data": {
            "image/png": "[encoded data removed]",
            "text/plain": [
              "<Figure size 432x288 with 1 Axes>"
            ]
          },
          "metadata": {
            "tags": []
          }
        }
      ]
    },
    {
      "cell_type": "code",
      "metadata": {
        "id": "OAMxApAPNgjO"
      },
      "source": [
        ""
      ],
      "execution_count": null,
      "outputs": []
    },
    {
      "cell_type": "markdown",
      "metadata": {
        "id": "ZMMb2cbygLNf"
      },
      "source": [
        "# REDES NEURONALES"
      ]
    },
    {
      "cell_type": "code",
      "metadata": {
        "id": "vJuFCd_EgNTM"
      },
      "source": [
        "import pandas as pd\n",
        "import numpy as np\n",
        "import keras\n",
        "from sklearn.model_selection import train_test_split\n",
        "from sklearn.preprocessing import LabelEncoder\n",
        "from sklearn import preprocessing\n",
        "import matplotlib.pyplot as plt"
      ],
      "execution_count": null,
      "outputs": []
    },
    {
      "cell_type": "code",
      "metadata": {
        "id": "25Znethngarg",
        "outputId": "14c19b80-8340-4dd9-e7d4-3ba24a2904f1",
        "colab": {
          "base_uri": "https://localhost:8080/",
          "height": 197
        }
      },
      "source": [
        "df.head()"
      ],
      "execution_count": null,
      "outputs": [
        {
          "output_type": "execute_result",
          "data": {
            "text/html": [
              "<div>\n",
              "<style scoped>\n",
              "    .dataframe tbody tr th:only-of-type {\n",
              "        vertical-align: middle;\n",
              "    }\n",
              "\n",
              "    .dataframe tbody tr th {\n",
              "        vertical-align: top;\n",
              "    }\n",
              "\n",
              "    .dataframe thead th {\n",
              "        text-align: right;\n",
              "    }\n",
              "</style>\n",
              "<table border=\"1\" class=\"dataframe\">\n",
              "  <thead>\n",
              "    <tr style=\"text-align: right;\">\n",
              "      <th></th>\n",
              "      <th>Customer Id</th>\n",
              "      <th>Age</th>\n",
              "      <th>Edu</th>\n",
              "      <th>Years Employed</th>\n",
              "      <th>Income</th>\n",
              "      <th>Card Debt</th>\n",
              "      <th>Other Debt</th>\n",
              "      <th>Defaulted</th>\n",
              "      <th>DebtIncomeRatio</th>\n",
              "      <th>Clus_km</th>\n",
              "    </tr>\n",
              "  </thead>\n",
              "  <tbody>\n",
              "    <tr>\n",
              "      <th>0</th>\n",
              "      <td>1</td>\n",
              "      <td>41</td>\n",
              "      <td>2</td>\n",
              "      <td>6</td>\n",
              "      <td>19</td>\n",
              "      <td>0.124</td>\n",
              "      <td>1.073</td>\n",
              "      <td>0.0</td>\n",
              "      <td>6.3</td>\n",
              "      <td>0</td>\n",
              "    </tr>\n",
              "    <tr>\n",
              "      <th>1</th>\n",
              "      <td>2</td>\n",
              "      <td>47</td>\n",
              "      <td>1</td>\n",
              "      <td>26</td>\n",
              "      <td>100</td>\n",
              "      <td>4.582</td>\n",
              "      <td>8.218</td>\n",
              "      <td>0.0</td>\n",
              "      <td>12.8</td>\n",
              "      <td>2</td>\n",
              "    </tr>\n",
              "    <tr>\n",
              "      <th>2</th>\n",
              "      <td>3</td>\n",
              "      <td>33</td>\n",
              "      <td>2</td>\n",
              "      <td>10</td>\n",
              "      <td>57</td>\n",
              "      <td>6.111</td>\n",
              "      <td>5.802</td>\n",
              "      <td>1.0</td>\n",
              "      <td>20.9</td>\n",
              "      <td>0</td>\n",
              "    </tr>\n",
              "    <tr>\n",
              "      <th>3</th>\n",
              "      <td>4</td>\n",
              "      <td>29</td>\n",
              "      <td>2</td>\n",
              "      <td>4</td>\n",
              "      <td>19</td>\n",
              "      <td>0.681</td>\n",
              "      <td>0.516</td>\n",
              "      <td>0.0</td>\n",
              "      <td>6.3</td>\n",
              "      <td>0</td>\n",
              "    </tr>\n",
              "    <tr>\n",
              "      <th>4</th>\n",
              "      <td>5</td>\n",
              "      <td>47</td>\n",
              "      <td>1</td>\n",
              "      <td>31</td>\n",
              "      <td>253</td>\n",
              "      <td>9.308</td>\n",
              "      <td>8.908</td>\n",
              "      <td>0.0</td>\n",
              "      <td>7.2</td>\n",
              "      <td>1</td>\n",
              "    </tr>\n",
              "  </tbody>\n",
              "</table>\n",
              "</div>"
            ],
            "text/plain": [
              "   Customer Id  Age  Edu  ...  Defaulted  DebtIncomeRatio  Clus_km\n",
              "0            1   41    2  ...        0.0              6.3        0\n",
              "1            2   47    1  ...        0.0             12.8        2\n",
              "2            3   33    2  ...        1.0             20.9        0\n",
              "3            4   29    2  ...        0.0              6.3        0\n",
              "4            5   47    1  ...        0.0              7.2        1\n",
              "\n",
              "[5 rows x 10 columns]"
            ]
          },
          "metadata": {
            "tags": []
          },
          "execution_count": 81
        }
      ]
    },
    {
      "cell_type": "code",
      "metadata": {
        "id": "-TlB6qNhhP_w"
      },
      "source": [
        "df.drop('Customer Id' ,axis=1, inplace=True)"
      ],
      "execution_count": null,
      "outputs": []
    },
    {
      "cell_type": "code",
      "metadata": {
        "id": "mQ0Tr75Kh-N5"
      },
      "source": [
        "X = df.copy()"
      ],
      "execution_count": null,
      "outputs": []
    },
    {
      "cell_type": "code",
      "metadata": {
        "id": "4YqxXlIwic0P"
      },
      "source": [
        "#separate target from predictors\n",
        "y = X.Clus_km\n",
        "X.drop(['Clus_km'], axis=1, inplace=True)"
      ],
      "execution_count": null,
      "outputs": []
    },
    {
      "cell_type": "code",
      "metadata": {
        "id": "lrN2uZakKkkA",
        "outputId": "1bd8a8bf-5f88-4153-a08d-fe8219c158ee",
        "colab": {
          "base_uri": "https://localhost:8080/",
          "height": 200
        }
      },
      "source": [
        "y[:10]"
      ],
      "execution_count": null,
      "outputs": [
        {
          "output_type": "execute_result",
          "data": {
            "text/plain": [
              "0    0\n",
              "1    2\n",
              "2    0\n",
              "3    0\n",
              "4    1\n",
              "5    2\n",
              "6    0\n",
              "7    2\n",
              "8    0\n",
              "9    2\n",
              "Name: Clus_km, dtype: int32"
            ]
          },
          "metadata": {
            "tags": []
          },
          "execution_count": 96
        }
      ]
    },
    {
      "cell_type": "code",
      "metadata": {
        "id": "11oPfcEe1zK1"
      },
      "source": [
        "from keras.utils import np_utils\n",
        "# encode class values as integers\n",
        "encoder = LabelEncoder()\n",
        "encoder.fit(y)\n",
        "encoded_Y = encoder.transform(y)\n",
        "# convert integers to dummy variables (i.e. one hot encoded)\n",
        "dummy_y = np_utils.to_categorical(encoded_Y)"
      ],
      "execution_count": null,
      "outputs": []
    },
    {
      "cell_type": "code",
      "metadata": {
        "id": "61mXsQL5igne"
      },
      "source": [
        "# Break off validation set from training data\n",
        "X_train_full, X_valid_full, y_train, y_valid = train_test_split(X, dummy_y, train_size=0.8, random_state=1)"
      ],
      "execution_count": null,
      "outputs": []
    },
    {
      "cell_type": "code",
      "metadata": {
        "id": "QZJI5sT3ikAn",
        "outputId": "9dba9f64-476e-4a2d-dd0d-dab771ba1b5b",
        "colab": {
          "base_uri": "https://localhost:8080/",
          "height": 166
        }
      },
      "source": [
        "X.dtypes"
      ],
      "execution_count": null,
      "outputs": [
        {
          "output_type": "execute_result",
          "data": {
            "text/plain": [
              "Age                  int64\n",
              "Edu                  int64\n",
              "Years Employed       int64\n",
              "Income               int64\n",
              "Card Debt          float64\n",
              "Other Debt         float64\n",
              "Defaulted          float64\n",
              "DebtIncomeRatio    float64\n",
              "dtype: object"
            ]
          },
          "metadata": {
            "tags": []
          },
          "execution_count": 87
        }
      ]
    },
    {
      "cell_type": "code",
      "metadata": {
        "id": "R-CX_aG1i3SJ",
        "outputId": "a7b3f8e5-3315-47df-c983-d4138621903d",
        "colab": {
          "base_uri": "https://localhost:8080/",
          "height": 166
        }
      },
      "source": [
        "X_valid_full.isnull().sum()"
      ],
      "execution_count": null,
      "outputs": [
        {
          "output_type": "execute_result",
          "data": {
            "text/plain": [
              "Age                 0\n",
              "Edu                 0\n",
              "Years Employed      0\n",
              "Income              0\n",
              "Card Debt           0\n",
              "Other Debt          0\n",
              "Defaulted          34\n",
              "DebtIncomeRatio     0\n",
              "dtype: int64"
            ]
          },
          "metadata": {
            "tags": []
          },
          "execution_count": 88
        }
      ]
    },
    {
      "cell_type": "code",
      "metadata": {
        "id": "QcZjnX-YwMqB",
        "outputId": "1958ee97-08af-4da6-ca23-a094d8e573a6",
        "colab": {
          "base_uri": "https://localhost:8080/",
          "height": 120
        }
      },
      "source": [
        "X_train_full['Defaulted'].fillna(0, inplace=True)\n",
        "X_valid_full['Defaulted'].fillna(0, inplace=True)"
      ],
      "execution_count": null,
      "outputs": [
        {
          "output_type": "stream",
          "text": [
            "/usr/local/lib/python3.6/dist-packages/pandas/core/series.py:4523: SettingWithCopyWarning: \n",
            "A value is trying to be set on a copy of a slice from a DataFrame\n",
            "\n",
            "See the caveats in the documentation: https://pandas.pydata.org/pandas-docs/stable/user_guide/indexing.html#returning-a-view-versus-a-copy\n",
            "  downcast=downcast,\n"
          ],
          "name": "stderr"
        }
      ]
    },
    {
      "cell_type": "code",
      "metadata": {
        "id": "Gmmzcio8xbkh"
      },
      "source": [
        "#normalizando los datos y automaticamente pasado de pandas a array para implementacion de modelos de ML\n",
        "from sklearn.preprocessing import StandardScaler\n",
        "scaler = StandardScaler().fit(X_train_full)\n",
        "X_train = scaler.transform(X_train_full)\n",
        "X_valid = scaler.transform(X_valid_full)"
      ],
      "execution_count": null,
      "outputs": []
    },
    {
      "cell_type": "code",
      "metadata": {
        "id": "QBA6Rh_ByAAo",
        "outputId": "89de7575-1170-4d58-a3aa-49a227d6ddd1",
        "colab": {
          "base_uri": "https://localhost:8080/",
          "height": 33
        }
      },
      "source": [
        "X_train.shape"
      ],
      "execution_count": null,
      "outputs": [
        {
          "output_type": "execute_result",
          "data": {
            "text/plain": [
              "(680, 8)"
            ]
          },
          "metadata": {
            "tags": []
          },
          "execution_count": 91
        }
      ]
    },
    {
      "cell_type": "code",
      "metadata": {
        "id": "574tRmMsxnLp",
        "outputId": "13063a4e-1728-4f39-fc94-bbefb3a7ae30",
        "colab": {
          "base_uri": "https://localhost:8080/",
          "height": 1000
        }
      },
      "source": [
        "from keras.models import Sequential\n",
        "from keras.layers import Dense\n",
        "\n",
        "# define the keras model\n",
        "model = Sequential()\n",
        "model.add(Dense(8, activation='relu', input_shape=(8,), kernel_initializer='he_uniform'))\n",
        "model.add(Dense(5, activation='relu', kernel_initializer='he_uniform'))\n",
        "model.add(Dense(3, activation='softmax'))\n",
        "\n",
        "# compile the keras model\n",
        "model.compile(loss='categorical_crossentropy', optimizer='adam', metrics=['accuracy'])\n",
        "\n",
        "# fit the keras model on the dataset\n",
        "model.fit(X_train, y_train, epochs=200, batch_size=5)\n",
        "\n",
        "# evaluate the keras model\n",
        "_, accuracy = model.evaluate(X_valid, y_valid)\n",
        "print('Accuracy: %.2f' % (accuracy*100))"
      ],
      "execution_count": null,
      "outputs": [
        {
          "output_type": "stream",
          "text": [
            "Epoch 1/200\n",
            "136/136 [==============================] - 0s 815us/step - loss: 1.1019 - accuracy: 0.4206\n",
            "Epoch 2/200\n",
            "136/136 [==============================] - 0s 856us/step - loss: 0.7273 - accuracy: 0.7206\n",
            "Epoch 3/200\n",
            "136/136 [==============================] - 0s 860us/step - loss: 0.5288 - accuracy: 0.7632\n",
            "Epoch 4/200\n",
            "136/136 [==============================] - 0s 813us/step - loss: 0.4481 - accuracy: 0.7632\n",
            "Epoch 5/200\n",
            "136/136 [==============================] - 0s 878us/step - loss: 0.4002 - accuracy: 0.7632\n",
            "Epoch 6/200\n",
            "136/136 [==============================] - 0s 777us/step - loss: 0.3636 - accuracy: 0.7632\n",
            "Epoch 7/200\n",
            "136/136 [==============================] - 0s 795us/step - loss: 0.3356 - accuracy: 0.8691\n",
            "Epoch 8/200\n",
            "136/136 [==============================] - 0s 807us/step - loss: 0.3115 - accuracy: 0.9132\n",
            "Epoch 9/200\n",
            "136/136 [==============================] - 0s 840us/step - loss: 0.2899 - accuracy: 0.9147\n",
            "Epoch 10/200\n",
            "136/136 [==============================] - 0s 811us/step - loss: 0.2698 - accuracy: 0.9235\n",
            "Epoch 11/200\n",
            "136/136 [==============================] - 0s 872us/step - loss: 0.2514 - accuracy: 0.9309\n",
            "Epoch 12/200\n",
            "136/136 [==============================] - 0s 798us/step - loss: 0.2354 - accuracy: 0.9353\n",
            "Epoch 13/200\n",
            "136/136 [==============================] - 0s 887us/step - loss: 0.2219 - accuracy: 0.9485\n",
            "Epoch 14/200\n",
            "136/136 [==============================] - 0s 839us/step - loss: 0.2084 - accuracy: 0.9500\n",
            "Epoch 15/200\n",
            "136/136 [==============================] - 0s 758us/step - loss: 0.1953 - accuracy: 0.9485\n",
            "Epoch 16/200\n",
            "136/136 [==============================] - 0s 809us/step - loss: 0.1857 - accuracy: 0.9544\n",
            "Epoch 17/200\n",
            "136/136 [==============================] - 0s 886us/step - loss: 0.1753 - accuracy: 0.9559\n",
            "Epoch 18/200\n",
            "136/136 [==============================] - 0s 819us/step - loss: 0.1664 - accuracy: 0.9588\n",
            "Epoch 19/200\n",
            "136/136 [==============================] - 0s 783us/step - loss: 0.1588 - accuracy: 0.9588\n",
            "Epoch 20/200\n",
            "136/136 [==============================] - 0s 794us/step - loss: 0.1519 - accuracy: 0.9603\n",
            "Epoch 21/200\n",
            "136/136 [==============================] - 0s 821us/step - loss: 0.1451 - accuracy: 0.9632\n",
            "Epoch 22/200\n",
            "136/136 [==============================] - 0s 918us/step - loss: 0.1397 - accuracy: 0.9632\n",
            "Epoch 23/200\n",
            "136/136 [==============================] - 0s 806us/step - loss: 0.1341 - accuracy: 0.9618\n",
            "Epoch 24/200\n",
            "136/136 [==============================] - 0s 815us/step - loss: 0.1301 - accuracy: 0.9632\n",
            "Epoch 25/200\n",
            "136/136 [==============================] - 0s 819us/step - loss: 0.1259 - accuracy: 0.9647\n",
            "Epoch 26/200\n",
            "136/136 [==============================] - 0s 837us/step - loss: 0.1227 - accuracy: 0.9662\n",
            "Epoch 27/200\n",
            "136/136 [==============================] - 0s 806us/step - loss: 0.1195 - accuracy: 0.9676\n",
            "Epoch 28/200\n",
            "136/136 [==============================] - 0s 836us/step - loss: 0.1165 - accuracy: 0.9662\n",
            "Epoch 29/200\n",
            "136/136 [==============================] - 0s 794us/step - loss: 0.1144 - accuracy: 0.9662\n",
            "Epoch 30/200\n",
            "136/136 [==============================] - 0s 740us/step - loss: 0.1115 - accuracy: 0.9676\n",
            "Epoch 31/200\n",
            "136/136 [==============================] - 0s 875us/step - loss: 0.1088 - accuracy: 0.9647\n",
            "Epoch 32/200\n",
            "136/136 [==============================] - 0s 788us/step - loss: 0.1069 - accuracy: 0.9662\n",
            "Epoch 33/200\n",
            "136/136 [==============================] - 0s 791us/step - loss: 0.1039 - accuracy: 0.9691\n",
            "Epoch 34/200\n",
            "136/136 [==============================] - 0s 833us/step - loss: 0.1018 - accuracy: 0.9691\n",
            "Epoch 35/200\n",
            "136/136 [==============================] - 0s 940us/step - loss: 0.0998 - accuracy: 0.9691\n",
            "Epoch 36/200\n",
            "136/136 [==============================] - 0s 933us/step - loss: 0.0966 - accuracy: 0.9706\n",
            "Epoch 37/200\n",
            "136/136 [==============================] - 0s 805us/step - loss: 0.0952 - accuracy: 0.9691\n",
            "Epoch 38/200\n",
            "136/136 [==============================] - 0s 809us/step - loss: 0.0927 - accuracy: 0.9706\n",
            "Epoch 39/200\n",
            "136/136 [==============================] - 0s 870us/step - loss: 0.0901 - accuracy: 0.9706\n",
            "Epoch 40/200\n",
            "136/136 [==============================] - 0s 806us/step - loss: 0.0880 - accuracy: 0.9721\n",
            "Epoch 41/200\n",
            "136/136 [==============================] - 0s 824us/step - loss: 0.0846 - accuracy: 0.9735\n",
            "Epoch 42/200\n",
            "136/136 [==============================] - 0s 812us/step - loss: 0.0831 - accuracy: 0.9721\n",
            "Epoch 43/200\n",
            "136/136 [==============================] - 0s 801us/step - loss: 0.0804 - accuracy: 0.9735\n",
            "Epoch 44/200\n",
            "136/136 [==============================] - 0s 831us/step - loss: 0.0796 - accuracy: 0.9750\n",
            "Epoch 45/200\n",
            "136/136 [==============================] - 0s 818us/step - loss: 0.0769 - accuracy: 0.9735\n",
            "Epoch 46/200\n",
            "136/136 [==============================] - 0s 813us/step - loss: 0.0760 - accuracy: 0.9735\n",
            "Epoch 47/200\n",
            "136/136 [==============================] - 0s 812us/step - loss: 0.0742 - accuracy: 0.9735\n",
            "Epoch 48/200\n",
            "136/136 [==============================] - 0s 895us/step - loss: 0.0714 - accuracy: 0.9721\n",
            "Epoch 49/200\n",
            "136/136 [==============================] - 0s 809us/step - loss: 0.0692 - accuracy: 0.9750\n",
            "Epoch 50/200\n",
            "136/136 [==============================] - 0s 807us/step - loss: 0.0673 - accuracy: 0.9735\n",
            "Epoch 51/200\n",
            "136/136 [==============================] - 0s 855us/step - loss: 0.0646 - accuracy: 0.9735\n",
            "Epoch 52/200\n",
            "136/136 [==============================] - 0s 882us/step - loss: 0.0628 - accuracy: 0.9750\n",
            "Epoch 53/200\n",
            "136/136 [==============================] - 0s 840us/step - loss: 0.0618 - accuracy: 0.9750\n",
            "Epoch 54/200\n",
            "136/136 [==============================] - 0s 809us/step - loss: 0.0600 - accuracy: 0.9735\n",
            "Epoch 55/200\n",
            "136/136 [==============================] - 0s 799us/step - loss: 0.0581 - accuracy: 0.9750\n",
            "Epoch 56/200\n",
            "136/136 [==============================] - 0s 898us/step - loss: 0.0571 - accuracy: 0.9750\n",
            "Epoch 57/200\n",
            "136/136 [==============================] - 0s 806us/step - loss: 0.0554 - accuracy: 0.9750\n",
            "Epoch 58/200\n",
            "136/136 [==============================] - 0s 885us/step - loss: 0.0539 - accuracy: 0.9735\n",
            "Epoch 59/200\n",
            "136/136 [==============================] - 0s 871us/step - loss: 0.0539 - accuracy: 0.9750\n",
            "Epoch 60/200\n",
            "136/136 [==============================] - 0s 802us/step - loss: 0.0515 - accuracy: 0.9750\n",
            "Epoch 61/200\n",
            "136/136 [==============================] - 0s 840us/step - loss: 0.0504 - accuracy: 0.9750\n",
            "Epoch 62/200\n",
            "136/136 [==============================] - 0s 821us/step - loss: 0.0493 - accuracy: 0.9750\n",
            "Epoch 63/200\n",
            "136/136 [==============================] - 0s 851us/step - loss: 0.0477 - accuracy: 0.9750\n",
            "Epoch 64/200\n",
            "136/136 [==============================] - 0s 832us/step - loss: 0.0476 - accuracy: 0.9750\n",
            "Epoch 65/200\n",
            "136/136 [==============================] - 0s 893us/step - loss: 0.0454 - accuracy: 0.9750\n",
            "Epoch 66/200\n",
            "136/136 [==============================] - 0s 829us/step - loss: 0.0440 - accuracy: 0.9750\n",
            "Epoch 67/200\n",
            "136/136 [==============================] - 0s 880us/step - loss: 0.0426 - accuracy: 0.9750\n",
            "Epoch 68/200\n",
            "136/136 [==============================] - 0s 843us/step - loss: 0.0423 - accuracy: 0.9750\n",
            "Epoch 69/200\n",
            "136/136 [==============================] - 0s 843us/step - loss: 0.0402 - accuracy: 0.9750\n",
            "Epoch 70/200\n",
            "136/136 [==============================] - 0s 807us/step - loss: 0.0394 - accuracy: 0.9750\n",
            "Epoch 71/200\n",
            "136/136 [==============================] - 0s 850us/step - loss: 0.0386 - accuracy: 0.9750\n",
            "Epoch 72/200\n",
            "136/136 [==============================] - 0s 804us/step - loss: 0.0373 - accuracy: 0.9750\n",
            "Epoch 73/200\n",
            "136/136 [==============================] - 0s 872us/step - loss: 0.0362 - accuracy: 0.9750\n",
            "Epoch 74/200\n",
            "136/136 [==============================] - 0s 868us/step - loss: 0.0354 - accuracy: 0.9750\n",
            "Epoch 75/200\n",
            "136/136 [==============================] - 0s 864us/step - loss: 0.0343 - accuracy: 0.9750\n",
            "Epoch 76/200\n",
            "136/136 [==============================] - 0s 792us/step - loss: 0.0347 - accuracy: 0.9868\n",
            "Epoch 77/200\n",
            "136/136 [==============================] - 0s 773us/step - loss: 0.0334 - accuracy: 0.9956\n",
            "Epoch 78/200\n",
            "136/136 [==============================] - 0s 837us/step - loss: 0.0320 - accuracy: 0.9941\n",
            "Epoch 79/200\n",
            "136/136 [==============================] - 0s 825us/step - loss: 0.0317 - accuracy: 0.9956\n",
            "Epoch 80/200\n",
            "136/136 [==============================] - 0s 837us/step - loss: 0.0306 - accuracy: 0.9971\n",
            "Epoch 81/200\n",
            "136/136 [==============================] - 0s 916us/step - loss: 0.0299 - accuracy: 0.9956\n",
            "Epoch 82/200\n",
            "136/136 [==============================] - 0s 882us/step - loss: 0.0295 - accuracy: 0.9956\n",
            "Epoch 83/200\n",
            "136/136 [==============================] - 0s 813us/step - loss: 0.0286 - accuracy: 0.9971\n",
            "Epoch 84/200\n",
            "136/136 [==============================] - 0s 811us/step - loss: 0.0289 - accuracy: 0.9956\n",
            "Epoch 85/200\n",
            "136/136 [==============================] - 0s 836us/step - loss: 0.0271 - accuracy: 0.9971\n",
            "Epoch 86/200\n",
            "136/136 [==============================] - 0s 791us/step - loss: 0.0272 - accuracy: 0.9971\n",
            "Epoch 87/200\n",
            "136/136 [==============================] - 0s 925us/step - loss: 0.0264 - accuracy: 0.9956\n",
            "Epoch 88/200\n",
            "136/136 [==============================] - 0s 817us/step - loss: 0.0260 - accuracy: 0.9971\n",
            "Epoch 89/200\n",
            "136/136 [==============================] - 0s 820us/step - loss: 0.0252 - accuracy: 0.9971\n",
            "Epoch 90/200\n",
            "136/136 [==============================] - 0s 926us/step - loss: 0.0253 - accuracy: 0.9971\n",
            "Epoch 91/200\n",
            "136/136 [==============================] - 0s 848us/step - loss: 0.0244 - accuracy: 0.9956\n",
            "Epoch 92/200\n",
            "136/136 [==============================] - 0s 841us/step - loss: 0.0242 - accuracy: 0.9985\n",
            "Epoch 93/200\n",
            "136/136 [==============================] - 0s 868us/step - loss: 0.0240 - accuracy: 0.9956\n",
            "Epoch 94/200\n",
            "136/136 [==============================] - 0s 838us/step - loss: 0.0237 - accuracy: 0.9971\n",
            "Epoch 95/200\n",
            "136/136 [==============================] - 0s 863us/step - loss: 0.0218 - accuracy: 0.9985\n",
            "Epoch 96/200\n",
            "136/136 [==============================] - 0s 809us/step - loss: 0.0221 - accuracy: 0.9971\n",
            "Epoch 97/200\n",
            "136/136 [==============================] - 0s 883us/step - loss: 0.0214 - accuracy: 0.9985\n",
            "Epoch 98/200\n",
            "136/136 [==============================] - 0s 860us/step - loss: 0.0211 - accuracy: 0.9971\n",
            "Epoch 99/200\n",
            "136/136 [==============================] - 0s 898us/step - loss: 0.0215 - accuracy: 0.9971\n",
            "Epoch 100/200\n",
            "136/136 [==============================] - 0s 813us/step - loss: 0.0207 - accuracy: 0.9971\n",
            "Epoch 101/200\n",
            "136/136 [==============================] - 0s 806us/step - loss: 0.0202 - accuracy: 0.9985\n",
            "Epoch 102/200\n",
            "136/136 [==============================] - 0s 825us/step - loss: 0.0199 - accuracy: 0.9985\n",
            "Epoch 103/200\n",
            "136/136 [==============================] - 0s 796us/step - loss: 0.0190 - accuracy: 0.9985\n",
            "Epoch 104/200\n",
            "136/136 [==============================] - 0s 894us/step - loss: 0.0194 - accuracy: 0.9985\n",
            "Epoch 105/200\n",
            "136/136 [==============================] - 0s 818us/step - loss: 0.0185 - accuracy: 0.9971\n",
            "Epoch 106/200\n",
            "136/136 [==============================] - 0s 848us/step - loss: 0.0184 - accuracy: 0.9985\n",
            "Epoch 107/200\n",
            "136/136 [==============================] - 0s 888us/step - loss: 0.0183 - accuracy: 0.9985\n",
            "Epoch 108/200\n",
            "136/136 [==============================] - 0s 835us/step - loss: 0.0178 - accuracy: 0.9971\n",
            "Epoch 109/200\n",
            "136/136 [==============================] - 0s 930us/step - loss: 0.0173 - accuracy: 0.9985\n",
            "Epoch 110/200\n",
            "136/136 [==============================] - 0s 794us/step - loss: 0.0175 - accuracy: 0.9971\n",
            "Epoch 111/200\n",
            "136/136 [==============================] - 0s 922us/step - loss: 0.0193 - accuracy: 0.9971\n",
            "Epoch 112/200\n",
            "136/136 [==============================] - 0s 857us/step - loss: 0.0164 - accuracy: 0.9985\n",
            "Epoch 113/200\n",
            "136/136 [==============================] - 0s 834us/step - loss: 0.0170 - accuracy: 0.9985\n",
            "Epoch 114/200\n",
            "136/136 [==============================] - 0s 896us/step - loss: 0.0160 - accuracy: 0.9985\n",
            "Epoch 115/200\n",
            "136/136 [==============================] - 0s 908us/step - loss: 0.0159 - accuracy: 0.9985\n",
            "Epoch 116/200\n",
            "136/136 [==============================] - 0s 832us/step - loss: 0.0156 - accuracy: 0.9985\n",
            "Epoch 117/200\n",
            "136/136 [==============================] - 0s 811us/step - loss: 0.0159 - accuracy: 0.9985\n",
            "Epoch 118/200\n",
            "136/136 [==============================] - 0s 843us/step - loss: 0.0152 - accuracy: 0.9985\n",
            "Epoch 119/200\n",
            "136/136 [==============================] - 0s 855us/step - loss: 0.0150 - accuracy: 0.9985\n",
            "Epoch 120/200\n",
            "136/136 [==============================] - 0s 843us/step - loss: 0.0148 - accuracy: 0.9985\n",
            "Epoch 121/200\n",
            "136/136 [==============================] - 0s 899us/step - loss: 0.0154 - accuracy: 0.9971\n",
            "Epoch 122/200\n",
            "136/136 [==============================] - 0s 881us/step - loss: 0.0144 - accuracy: 0.9985\n",
            "Epoch 123/200\n",
            "136/136 [==============================] - 0s 952us/step - loss: 0.0152 - accuracy: 0.9971\n",
            "Epoch 124/200\n",
            "136/136 [==============================] - 0s 900us/step - loss: 0.0137 - accuracy: 0.9985\n",
            "Epoch 125/200\n",
            "136/136 [==============================] - 0s 845us/step - loss: 0.0139 - accuracy: 0.9985\n",
            "Epoch 126/200\n",
            "136/136 [==============================] - 0s 882us/step - loss: 0.0136 - accuracy: 0.9971\n",
            "Epoch 127/200\n",
            "136/136 [==============================] - 0s 862us/step - loss: 0.0138 - accuracy: 0.9971\n",
            "Epoch 128/200\n",
            "136/136 [==============================] - 0s 831us/step - loss: 0.0135 - accuracy: 0.9985\n",
            "Epoch 129/200\n",
            "136/136 [==============================] - 0s 846us/step - loss: 0.0129 - accuracy: 0.9985\n",
            "Epoch 130/200\n",
            "136/136 [==============================] - 0s 894us/step - loss: 0.0131 - accuracy: 0.9985\n",
            "Epoch 131/200\n",
            "136/136 [==============================] - 0s 920us/step - loss: 0.0127 - accuracy: 0.9985\n",
            "Epoch 132/200\n",
            "136/136 [==============================] - 0s 842us/step - loss: 0.0127 - accuracy: 0.9985\n",
            "Epoch 133/200\n",
            "136/136 [==============================] - 0s 832us/step - loss: 0.0125 - accuracy: 0.9985\n",
            "Epoch 134/200\n",
            "136/136 [==============================] - 0s 835us/step - loss: 0.0120 - accuracy: 0.9985\n",
            "Epoch 135/200\n",
            "136/136 [==============================] - 0s 895us/step - loss: 0.0127 - accuracy: 0.9985\n",
            "Epoch 136/200\n",
            "136/136 [==============================] - 0s 830us/step - loss: 0.0121 - accuracy: 0.9985\n",
            "Epoch 137/200\n",
            "136/136 [==============================] - 0s 829us/step - loss: 0.0120 - accuracy: 0.9985\n",
            "Epoch 138/200\n",
            "136/136 [==============================] - 0s 928us/step - loss: 0.0120 - accuracy: 0.9971\n",
            "Epoch 139/200\n",
            "136/136 [==============================] - 0s 813us/step - loss: 0.0118 - accuracy: 0.9985\n",
            "Epoch 140/200\n",
            "136/136 [==============================] - 0s 900us/step - loss: 0.0112 - accuracy: 0.9985\n",
            "Epoch 141/200\n",
            "136/136 [==============================] - 0s 941us/step - loss: 0.0115 - accuracy: 0.9985\n",
            "Epoch 142/200\n",
            "136/136 [==============================] - 0s 829us/step - loss: 0.0115 - accuracy: 0.9985\n",
            "Epoch 143/200\n",
            "136/136 [==============================] - 0s 882us/step - loss: 0.0108 - accuracy: 0.9985\n",
            "Epoch 144/200\n",
            "136/136 [==============================] - 0s 868us/step - loss: 0.0110 - accuracy: 0.9985\n",
            "Epoch 145/200\n",
            "136/136 [==============================] - 0s 868us/step - loss: 0.0112 - accuracy: 0.9985\n",
            "Epoch 146/200\n",
            "136/136 [==============================] - 0s 861us/step - loss: 0.0108 - accuracy: 0.9985\n",
            "Epoch 147/200\n",
            "136/136 [==============================] - 0s 873us/step - loss: 0.0104 - accuracy: 0.9985\n",
            "Epoch 148/200\n",
            "136/136 [==============================] - 0s 915us/step - loss: 0.0101 - accuracy: 0.9985\n",
            "Epoch 149/200\n",
            "136/136 [==============================] - 0s 809us/step - loss: 0.0104 - accuracy: 0.9985\n",
            "Epoch 150/200\n",
            "136/136 [==============================] - 0s 899us/step - loss: 0.0108 - accuracy: 0.9985\n",
            "Epoch 151/200\n",
            "136/136 [==============================] - 0s 851us/step - loss: 0.0094 - accuracy: 0.9985\n",
            "Epoch 152/200\n",
            "136/136 [==============================] - 0s 889us/step - loss: 0.0103 - accuracy: 0.9971\n",
            "Epoch 153/200\n",
            "136/136 [==============================] - 0s 875us/step - loss: 0.0096 - accuracy: 0.9985\n",
            "Epoch 154/200\n",
            "136/136 [==============================] - 0s 879us/step - loss: 0.0098 - accuracy: 0.9985\n",
            "Epoch 155/200\n",
            "136/136 [==============================] - 0s 872us/step - loss: 0.0092 - accuracy: 0.9985\n",
            "Epoch 156/200\n",
            "136/136 [==============================] - 0s 966us/step - loss: 0.0098 - accuracy: 0.9985\n",
            "Epoch 157/200\n",
            "136/136 [==============================] - 0s 805us/step - loss: 0.0099 - accuracy: 0.9985\n",
            "Epoch 158/200\n",
            "136/136 [==============================] - 0s 774us/step - loss: 0.0096 - accuracy: 0.9985\n",
            "Epoch 159/200\n",
            "136/136 [==============================] - 0s 891us/step - loss: 0.0092 - accuracy: 0.9985\n",
            "Epoch 160/200\n",
            "136/136 [==============================] - 0s 871us/step - loss: 0.0090 - accuracy: 0.9985\n",
            "Epoch 161/200\n",
            "136/136 [==============================] - 0s 866us/step - loss: 0.0096 - accuracy: 0.9985\n",
            "Epoch 162/200\n",
            "136/136 [==============================] - 0s 885us/step - loss: 0.0092 - accuracy: 0.9985\n",
            "Epoch 163/200\n",
            "136/136 [==============================] - 0s 826us/step - loss: 0.0086 - accuracy: 0.9985\n",
            "Epoch 164/200\n",
            "136/136 [==============================] - 0s 914us/step - loss: 0.0088 - accuracy: 0.9985\n",
            "Epoch 165/200\n",
            "136/136 [==============================] - 0s 894us/step - loss: 0.0082 - accuracy: 0.9985\n",
            "Epoch 166/200\n",
            "136/136 [==============================] - 0s 876us/step - loss: 0.0086 - accuracy: 0.9985\n",
            "Epoch 167/200\n",
            "136/136 [==============================] - 0s 898us/step - loss: 0.0084 - accuracy: 0.9985\n",
            "Epoch 168/200\n",
            "136/136 [==============================] - 0s 906us/step - loss: 0.0086 - accuracy: 0.9985\n",
            "Epoch 169/200\n",
            "136/136 [==============================] - 0s 908us/step - loss: 0.0083 - accuracy: 0.9985\n",
            "Epoch 170/200\n",
            "136/136 [==============================] - 0s 889us/step - loss: 0.0080 - accuracy: 0.9985\n",
            "Epoch 171/200\n",
            "136/136 [==============================] - 0s 862us/step - loss: 0.0080 - accuracy: 0.9985\n",
            "Epoch 172/200\n",
            "136/136 [==============================] - 0s 958us/step - loss: 0.0087 - accuracy: 0.9985\n",
            "Epoch 173/200\n",
            "136/136 [==============================] - 0s 834us/step - loss: 0.0081 - accuracy: 0.9985\n",
            "Epoch 174/200\n",
            "136/136 [==============================] - 0s 900us/step - loss: 0.0080 - accuracy: 0.9985\n",
            "Epoch 175/200\n",
            "136/136 [==============================] - 0s 844us/step - loss: 0.0076 - accuracy: 0.9985\n",
            "Epoch 176/200\n",
            "136/136 [==============================] - 0s 781us/step - loss: 0.0074 - accuracy: 0.9985\n",
            "Epoch 177/200\n",
            "136/136 [==============================] - 0s 902us/step - loss: 0.0078 - accuracy: 0.9985\n",
            "Epoch 178/200\n",
            "136/136 [==============================] - 0s 820us/step - loss: 0.0077 - accuracy: 0.9985\n",
            "Epoch 179/200\n",
            "136/136 [==============================] - 0s 862us/step - loss: 0.0072 - accuracy: 0.9985\n",
            "Epoch 180/200\n",
            "136/136 [==============================] - 0s 882us/step - loss: 0.0073 - accuracy: 0.9985\n",
            "Epoch 181/200\n",
            "136/136 [==============================] - 0s 912us/step - loss: 0.0071 - accuracy: 0.9985\n",
            "Epoch 182/200\n",
            "136/136 [==============================] - 0s 918us/step - loss: 0.0081 - accuracy: 0.9985\n",
            "Epoch 183/200\n",
            "136/136 [==============================] - 0s 859us/step - loss: 0.0072 - accuracy: 0.9985\n",
            "Epoch 184/200\n",
            "136/136 [==============================] - 0s 923us/step - loss: 0.0074 - accuracy: 0.9985\n",
            "Epoch 185/200\n",
            "136/136 [==============================] - 0s 817us/step - loss: 0.0072 - accuracy: 0.9985\n",
            "Epoch 186/200\n",
            "136/136 [==============================] - 0s 892us/step - loss: 0.0070 - accuracy: 0.9985\n",
            "Epoch 187/200\n",
            "136/136 [==============================] - 0s 832us/step - loss: 0.0069 - accuracy: 0.9985\n",
            "Epoch 188/200\n",
            "136/136 [==============================] - 0s 927us/step - loss: 0.0068 - accuracy: 0.9985\n",
            "Epoch 189/200\n",
            "136/136 [==============================] - 0s 865us/step - loss: 0.0067 - accuracy: 0.9985\n",
            "Epoch 190/200\n",
            "136/136 [==============================] - 0s 841us/step - loss: 0.0070 - accuracy: 0.9985\n",
            "Epoch 191/200\n",
            "136/136 [==============================] - 0s 955us/step - loss: 0.0067 - accuracy: 0.9985\n",
            "Epoch 192/200\n",
            "136/136 [==============================] - 0s 853us/step - loss: 0.0068 - accuracy: 0.9985\n",
            "Epoch 193/200\n",
            "136/136 [==============================] - 0s 899us/step - loss: 0.0069 - accuracy: 0.9985\n",
            "Epoch 194/200\n",
            "136/136 [==============================] - 0s 905us/step - loss: 0.0065 - accuracy: 0.9985\n",
            "Epoch 195/200\n",
            "136/136 [==============================] - 0s 901us/step - loss: 0.0066 - accuracy: 0.9985\n",
            "Epoch 196/200\n",
            "136/136 [==============================] - 0s 879us/step - loss: 0.0064 - accuracy: 0.9985\n",
            "Epoch 197/200\n",
            "136/136 [==============================] - 0s 880us/step - loss: 0.0066 - accuracy: 0.9985\n",
            "Epoch 198/200\n",
            "136/136 [==============================] - 0s 913us/step - loss: 0.0064 - accuracy: 0.9985\n",
            "Epoch 199/200\n",
            "136/136 [==============================] - 0s 850us/step - loss: 0.0063 - accuracy: 0.9985\n",
            "Epoch 200/200\n",
            "136/136 [==============================] - 0s 889us/step - loss: 0.0062 - accuracy: 0.9985\n",
            "6/6 [==============================] - 0s 2ms/step - loss: 0.0504 - accuracy: 0.9882\n",
            "Accuracy: 98.82\n"
          ],
          "name": "stdout"
        }
      ]
    },
    {
      "cell_type": "code",
      "metadata": {
        "id": "kyoKepVyy0yt"
      },
      "source": [
        "model.save(\"green.h5\")"
      ],
      "execution_count": null,
      "outputs": []
    },
    {
      "cell_type": "code",
      "metadata": {
        "id": "RWEVADkgPz6R",
        "outputId": "bb612e91-e669-4e20-8cb1-5259f3afd2b3",
        "colab": {
          "base_uri": "https://localhost:8080/",
          "height": 33
        }
      },
      "source": [
        "import joblib\n",
        "joblib.dump(scaler,'green.pkl')"
      ],
      "execution_count": null,
      "outputs": [
        {
          "output_type": "execute_result",
          "data": {
            "text/plain": [
              "['green.pkl']"
            ]
          },
          "metadata": {
            "tags": []
          },
          "execution_count": 98
        }
      ]
    },
    {
      "cell_type": "code",
      "metadata": {
        "id": "9cca1QpHP9C6"
      },
      "source": [
        ""
      ],
      "execution_count": null,
      "outputs": []
    }
  ]
}